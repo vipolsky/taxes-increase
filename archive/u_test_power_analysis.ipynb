{
 "cells": [
  {
   "cell_type": "code",
   "execution_count": 9,
   "metadata": {},
   "outputs": [],
   "source": [
    "import sys\n",
    "sys.path.append('../')\n",
    "from collections import defaultdict\n",
    "import pandas as pd\n",
    "import numpy as np\n",
    "from scipy.stats import mannwhitneyu\n",
    "from roverdata.db import DataWarehouse\n",
    "from taxes_increase import utils"
   ]
  },
  {
   "cell_type": "markdown",
   "metadata": {},
   "source": [
    "## Get LTV Data"
   ]
  },
  {
   "cell_type": "code",
   "execution_count": 10,
   "metadata": {},
   "outputs": [],
   "source": [
    "LTV = pd.read_csv('../LTV.csv')"
   ]
  },
  {
   "cell_type": "markdown",
   "metadata": {},
   "source": [
    "#### 180 Day LTV Data"
   ]
  },
  {
   "cell_type": "code",
   "execution_count": 11,
   "metadata": {},
   "outputs": [],
   "source": [
    "LTV180 = LTV.loc[LTV.dates == 180]"
   ]
  },
  {
   "cell_type": "markdown",
   "metadata": {},
   "source": [
    "#### 180 LTV Data for New Customers"
   ]
  },
  {
   "cell_type": "code",
   "execution_count": 12,
   "metadata": {},
   "outputs": [],
   "source": [
    "new = LTV180.loc[LTV.new_repeat == 'new']"
   ]
  },
  {
   "cell_type": "markdown",
   "metadata": {},
   "source": [
    "#### 180 LTV Data for New Account Customers"
   ]
  },
  {
   "cell_type": "code",
   "execution_count": 13,
   "metadata": {},
   "outputs": [],
   "source": [
    "new_account = LTV180.loc[LTV.new_account == 'new']"
   ]
  },
  {
   "cell_type": "code",
   "execution_count": 14,
   "metadata": {},
   "outputs": [
    {
     "data": {
      "text/html": [
       "<div>\n",
       "<style scoped>\n",
       "    .dataframe tbody tr th:only-of-type {\n",
       "        vertical-align: middle;\n",
       "    }\n",
       "\n",
       "    .dataframe tbody tr th {\n",
       "        vertical-align: top;\n",
       "    }\n",
       "\n",
       "    .dataframe thead th {\n",
       "        text-align: right;\n",
       "    }\n",
       "</style>\n",
       "<table border=\"1\" class=\"dataframe\">\n",
       "  <thead>\n",
       "    <tr style=\"text-align: right;\">\n",
       "      <th></th>\n",
       "      <th>requester_id</th>\n",
       "      <th>service</th>\n",
       "      <th>new_repeat</th>\n",
       "      <th>new_account</th>\n",
       "      <th>first_observed_stay_added</th>\n",
       "      <th>dates</th>\n",
       "      <th>stays</th>\n",
       "      <th>nrt</th>\n",
       "      <th>gmv</th>\n",
       "    </tr>\n",
       "  </thead>\n",
       "  <tbody>\n",
       "    <tr>\n",
       "      <td>1</td>\n",
       "      <td>7312458</td>\n",
       "      <td>dog-walking</td>\n",
       "      <td>new</td>\n",
       "      <td>old</td>\n",
       "      <td>2018-08-25 13:47:58.000000</td>\n",
       "      <td>180</td>\n",
       "      <td>25</td>\n",
       "      <td>355.05</td>\n",
       "      <td>1315.0</td>\n",
       "    </tr>\n",
       "    <tr>\n",
       "      <td>14</td>\n",
       "      <td>7330304</td>\n",
       "      <td>*</td>\n",
       "      <td>new</td>\n",
       "      <td>old</td>\n",
       "      <td>2018-08-27 23:06:30.000000</td>\n",
       "      <td>180</td>\n",
       "      <td>16</td>\n",
       "      <td>234.90</td>\n",
       "      <td>870.0</td>\n",
       "    </tr>\n",
       "    <tr>\n",
       "      <td>119</td>\n",
       "      <td>7400397</td>\n",
       "      <td>dog-walking</td>\n",
       "      <td>new</td>\n",
       "      <td>new</td>\n",
       "      <td>2018-09-01 13:46:51.000000</td>\n",
       "      <td>180</td>\n",
       "      <td>1</td>\n",
       "      <td>18.90</td>\n",
       "      <td>70.0</td>\n",
       "    </tr>\n",
       "    <tr>\n",
       "      <td>120</td>\n",
       "      <td>7347851</td>\n",
       "      <td>*</td>\n",
       "      <td>new</td>\n",
       "      <td>new</td>\n",
       "      <td>2018-08-27 02:07:27.000000</td>\n",
       "      <td>180</td>\n",
       "      <td>22</td>\n",
       "      <td>513.27</td>\n",
       "      <td>1901.0</td>\n",
       "    </tr>\n",
       "    <tr>\n",
       "      <td>131</td>\n",
       "      <td>7377501</td>\n",
       "      <td>*</td>\n",
       "      <td>new</td>\n",
       "      <td>new</td>\n",
       "      <td>2018-08-29 21:47:50.000000</td>\n",
       "      <td>180</td>\n",
       "      <td>1</td>\n",
       "      <td>12.42</td>\n",
       "      <td>46.0</td>\n",
       "    </tr>\n",
       "  </tbody>\n",
       "</table>\n",
       "</div>"
      ],
      "text/plain": [
       "     requester_id      service new_repeat new_account  \\\n",
       "1         7312458  dog-walking        new         old   \n",
       "14        7330304            *        new         old   \n",
       "119       7400397  dog-walking        new         new   \n",
       "120       7347851            *        new         new   \n",
       "131       7377501            *        new         new   \n",
       "\n",
       "      first_observed_stay_added  dates  stays     nrt     gmv  \n",
       "1    2018-08-25 13:47:58.000000    180     25  355.05  1315.0  \n",
       "14   2018-08-27 23:06:30.000000    180     16  234.90   870.0  \n",
       "119  2018-09-01 13:46:51.000000    180      1   18.90    70.0  \n",
       "120  2018-08-27 02:07:27.000000    180     22  513.27  1901.0  \n",
       "131  2018-08-29 21:47:50.000000    180      1   12.42    46.0  "
      ]
     },
     "execution_count": 14,
     "metadata": {},
     "output_type": "execute_result"
    }
   ],
   "source": [
    "new.head()"
   ]
  },
  {
   "cell_type": "markdown",
   "metadata": {},
   "source": [
    "## Simulate 3 Bucket Experiment"
   ]
  },
  {
   "cell_type": "code",
   "execution_count": 25,
   "metadata": {},
   "outputs": [],
   "source": [
    "def zeros(df, diff):\n",
    "    \"\"\"\n",
    "    zero-out spending from random customers, until the difference in GMV \n",
    "    is approximately equal to the inputted difference\n",
    "    \n",
    "    Args:\n",
    "        df (pandas.DataFrame): contains simulated \"variation\" data\n",
    "        diff (float): difference to drop the variation by\n",
    "    \n",
    "    Returns:\n",
    "        pandas.DataFrame: containing variation data dropped by diff%\n",
    "    \"\"\"\n",
    "    starting_total = df.sum()\n",
    "    removal_estimate = starting_total*diff/df[df != 0].mean()\n",
    "    row = df.loc[df != 0].sample(n=int(removal_estimate))\n",
    "    df.at[row.index.values] = 0\n",
    "    return df"
   ]
  },
  {
   "cell_type": "code",
   "execution_count": 16,
   "metadata": {},
   "outputs": [],
   "source": [
    "def flat(df, diff):\n",
    "    \"\"\"\n",
    "    shift all the customers who spent down by diff%\n",
    "    \n",
    "    Args:\n",
    "        df (pandas.DataFrame): contains simulated \"variation\" data\n",
    "        diff (float): difference to drop the variation by\n",
    "    \n",
    "    Returns:\n",
    "        pandas.DataFrame: containing variation data dropped by diff%\n",
    "    \"\"\"\n",
    "    return df*(1-diff)"
   ]
  },
  {
   "cell_type": "code",
   "execution_count": 21,
   "metadata": {},
   "outputs": [],
   "source": [
    "def simulate_mann_whitney(df, metric, split, diff, drop_method, simulations):\n",
    "    \"\"\"\n",
    "    given historical data, metric, and split proportions, \n",
    "    estimate the power of a mann-whitney u-test using an inputted number of simulations\n",
    "    \n",
    "    Args: \n",
    "        df (pandas.DataFrame): historical data, should have column `service` and metric (see below)\n",
    "        metric (string): metric to be used to mann-whitney test, should be a column in df\n",
    "        split(list): list of split proportions\n",
    "        diff (float): difference to drop the variation by\n",
    "        drop_method (function): either `zeros` or `flat`, \n",
    "            describes the strategy by which the variation will be reduced by diff%\n",
    "    \n",
    "    Returns:\n",
    "        (dictionary): for each service, what is the power of our test at 95% significance\n",
    "    \"\"\"\n",
    "    significant_values = defaultdict(int)\n",
    "    for service in df.service.unique():\n",
    "        df_service = df.loc[df['service'] == service]\n",
    "        for simulation in range(simulations):\n",
    "            df_dict = utils.split_data(df_service, split)\n",
    "            for variation in range(2, len(split)+1):\n",
    "                control = df_dict[1][metric]\n",
    "                variation = drop_method(df_dict[variation][metric], diff)\n",
    "                statistic, pvalue = mannwhitneyu(control,\n",
    "                                                 variation, \n",
    "                                                 alternative='greater')\n",
    "                if pvalue <= 0.05:\n",
    "                    significant_values[service] += 1/(simulations*(len(split)-1))\n",
    "    return significant_values"
   ]
  },
  {
   "cell_type": "markdown",
   "metadata": {},
   "source": [
    "## Estimate Power"
   ]
  },
  {
   "cell_type": "code",
   "execution_count": 22,
   "metadata": {},
   "outputs": [],
   "source": [
    "metrics = ['gmv', 'nrt']"
   ]
  },
  {
   "cell_type": "markdown",
   "metadata": {},
   "source": [
    "#### New Customers, Power for 2% Drop Flat Rate"
   ]
  },
  {
   "cell_type": "code",
   "execution_count": 23,
   "metadata": {},
   "outputs": [
    {
     "data": {
      "text/html": [
       "<div>\n",
       "<style scoped>\n",
       "    .dataframe tbody tr th:only-of-type {\n",
       "        vertical-align: middle;\n",
       "    }\n",
       "\n",
       "    .dataframe tbody tr th {\n",
       "        vertical-align: top;\n",
       "    }\n",
       "\n",
       "    .dataframe thead th {\n",
       "        text-align: right;\n",
       "    }\n",
       "</style>\n",
       "<table border=\"1\" class=\"dataframe\">\n",
       "  <thead>\n",
       "    <tr style=\"text-align: right;\">\n",
       "      <th></th>\n",
       "      <th>dog-walking</th>\n",
       "      <th>*</th>\n",
       "      <th>drop-in</th>\n",
       "      <th>overnight</th>\n",
       "    </tr>\n",
       "  </thead>\n",
       "  <tbody>\n",
       "    <tr>\n",
       "      <td>gmv</td>\n",
       "      <td>0.073</td>\n",
       "      <td>0.1095</td>\n",
       "      <td>0.0795</td>\n",
       "      <td>0.0905</td>\n",
       "    </tr>\n",
       "    <tr>\n",
       "      <td>nrt</td>\n",
       "      <td>0.074</td>\n",
       "      <td>0.1150</td>\n",
       "      <td>0.0660</td>\n",
       "      <td>0.0880</td>\n",
       "    </tr>\n",
       "  </tbody>\n",
       "</table>\n",
       "</div>"
      ],
      "text/plain": [
       "     dog-walking       *  drop-in  overnight\n",
       "gmv        0.073  0.1095   0.0795     0.0905\n",
       "nrt        0.074  0.1150   0.0660     0.0880"
      ]
     },
     "execution_count": 23,
     "metadata": {},
     "output_type": "execute_result"
    }
   ],
   "source": [
    "power_data = [simulate_mann_whitney(new, metric, [1/3,1/3,1/3], 0.02, flat, 1000) for metric in metrics]\n",
    "new_df = pd.DataFrame(power_data, index=metrics)\n",
    "new_df"
   ]
  },
  {
   "cell_type": "markdown",
   "metadata": {},
   "source": [
    "#### New Customers, Power for 2% Drop Zeros"
   ]
  },
  {
   "cell_type": "code",
   "execution_count": 26,
   "metadata": {},
   "outputs": [
    {
     "data": {
      "text/html": [
       "<div>\n",
       "<style scoped>\n",
       "    .dataframe tbody tr th:only-of-type {\n",
       "        vertical-align: middle;\n",
       "    }\n",
       "\n",
       "    .dataframe tbody tr th {\n",
       "        vertical-align: top;\n",
       "    }\n",
       "\n",
       "    .dataframe thead th {\n",
       "        text-align: right;\n",
       "    }\n",
       "</style>\n",
       "<table border=\"1\" class=\"dataframe\">\n",
       "  <thead>\n",
       "    <tr style=\"text-align: right;\">\n",
       "      <th></th>\n",
       "      <th>dog-walking</th>\n",
       "      <th>*</th>\n",
       "      <th>drop-in</th>\n",
       "      <th>overnight</th>\n",
       "    </tr>\n",
       "  </thead>\n",
       "  <tbody>\n",
       "    <tr>\n",
       "      <td>gmv</td>\n",
       "      <td>0.1535</td>\n",
       "      <td>0.4405</td>\n",
       "      <td>0.1605</td>\n",
       "      <td>0.2990</td>\n",
       "    </tr>\n",
       "    <tr>\n",
       "      <td>nrt</td>\n",
       "      <td>0.1820</td>\n",
       "      <td>0.4610</td>\n",
       "      <td>0.1755</td>\n",
       "      <td>0.2865</td>\n",
       "    </tr>\n",
       "  </tbody>\n",
       "</table>\n",
       "</div>"
      ],
      "text/plain": [
       "     dog-walking       *  drop-in  overnight\n",
       "gmv       0.1535  0.4405   0.1605     0.2990\n",
       "nrt       0.1820  0.4610   0.1755     0.2865"
      ]
     },
     "execution_count": 26,
     "metadata": {},
     "output_type": "execute_result"
    }
   ],
   "source": [
    "power_data = [simulate_mann_whitney(new, metric, [1/3,1/3,1/3], 0.02, zeros, 1000) for metric in metrics]\n",
    "new_df = pd.DataFrame(power_data, index=metrics)\n",
    "new_df"
   ]
  },
  {
   "cell_type": "markdown",
   "metadata": {},
   "source": [
    "#### New Customers, Power for 5% Drop Flat Rate"
   ]
  },
  {
   "cell_type": "code",
   "execution_count": 27,
   "metadata": {},
   "outputs": [
    {
     "data": {
      "text/html": [
       "<div>\n",
       "<style scoped>\n",
       "    .dataframe tbody tr th:only-of-type {\n",
       "        vertical-align: middle;\n",
       "    }\n",
       "\n",
       "    .dataframe tbody tr th {\n",
       "        vertical-align: top;\n",
       "    }\n",
       "\n",
       "    .dataframe thead th {\n",
       "        text-align: right;\n",
       "    }\n",
       "</style>\n",
       "<table border=\"1\" class=\"dataframe\">\n",
       "  <thead>\n",
       "    <tr style=\"text-align: right;\">\n",
       "      <th></th>\n",
       "      <th>dog-walking</th>\n",
       "      <th>*</th>\n",
       "      <th>drop-in</th>\n",
       "      <th>overnight</th>\n",
       "    </tr>\n",
       "  </thead>\n",
       "  <tbody>\n",
       "    <tr>\n",
       "      <td>gmv</td>\n",
       "      <td>0.1230</td>\n",
       "      <td>0.237</td>\n",
       "      <td>0.118</td>\n",
       "      <td>0.1525</td>\n",
       "    </tr>\n",
       "    <tr>\n",
       "      <td>nrt</td>\n",
       "      <td>0.1225</td>\n",
       "      <td>0.242</td>\n",
       "      <td>0.111</td>\n",
       "      <td>0.1510</td>\n",
       "    </tr>\n",
       "  </tbody>\n",
       "</table>\n",
       "</div>"
      ],
      "text/plain": [
       "     dog-walking      *  drop-in  overnight\n",
       "gmv       0.1230  0.237    0.118     0.1525\n",
       "nrt       0.1225  0.242    0.111     0.1510"
      ]
     },
     "execution_count": 27,
     "metadata": {},
     "output_type": "execute_result"
    }
   ],
   "source": [
    "power_data = [simulate_mann_whitney(new, metric, [1/3,1/3,1/3], 0.05, flat, 1000) for metric in metrics]\n",
    "new_df = pd.DataFrame(power_data, index=metrics)\n",
    "new_df"
   ]
  },
  {
   "cell_type": "markdown",
   "metadata": {},
   "source": [
    "#### New Customers, Power for 5% Drop Zeros"
   ]
  },
  {
   "cell_type": "code",
   "execution_count": 28,
   "metadata": {},
   "outputs": [
    {
     "data": {
      "text/html": [
       "<div>\n",
       "<style scoped>\n",
       "    .dataframe tbody tr th:only-of-type {\n",
       "        vertical-align: middle;\n",
       "    }\n",
       "\n",
       "    .dataframe tbody tr th {\n",
       "        vertical-align: top;\n",
       "    }\n",
       "\n",
       "    .dataframe thead th {\n",
       "        text-align: right;\n",
       "    }\n",
       "</style>\n",
       "<table border=\"1\" class=\"dataframe\">\n",
       "  <thead>\n",
       "    <tr style=\"text-align: right;\">\n",
       "      <th></th>\n",
       "      <th>dog-walking</th>\n",
       "      <th>*</th>\n",
       "      <th>drop-in</th>\n",
       "      <th>overnight</th>\n",
       "    </tr>\n",
       "  </thead>\n",
       "  <tbody>\n",
       "    <tr>\n",
       "      <td>gmv</td>\n",
       "      <td>0.5185</td>\n",
       "      <td>0.988</td>\n",
       "      <td>0.5475</td>\n",
       "      <td>0.8755</td>\n",
       "    </tr>\n",
       "    <tr>\n",
       "      <td>nrt</td>\n",
       "      <td>0.5100</td>\n",
       "      <td>0.982</td>\n",
       "      <td>0.5630</td>\n",
       "      <td>0.8885</td>\n",
       "    </tr>\n",
       "  </tbody>\n",
       "</table>\n",
       "</div>"
      ],
      "text/plain": [
       "     dog-walking      *  drop-in  overnight\n",
       "gmv       0.5185  0.988   0.5475     0.8755\n",
       "nrt       0.5100  0.982   0.5630     0.8885"
      ]
     },
     "execution_count": 28,
     "metadata": {},
     "output_type": "execute_result"
    }
   ],
   "source": [
    "power_data = [simulate_mann_whitney(new, metric, [1/3,1/3,1/3], 0.05, zeros, 1000) for metric in metrics]\n",
    "new_df = pd.DataFrame(power_data, index=metrics)\n",
    "new_df"
   ]
  },
  {
   "cell_type": "markdown",
   "metadata": {},
   "source": [
    "#### New Accounts, Power for 2% Drop Flat Rate"
   ]
  },
  {
   "cell_type": "code",
   "execution_count": 29,
   "metadata": {},
   "outputs": [
    {
     "data": {
      "text/html": [
       "<div>\n",
       "<style scoped>\n",
       "    .dataframe tbody tr th:only-of-type {\n",
       "        vertical-align: middle;\n",
       "    }\n",
       "\n",
       "    .dataframe tbody tr th {\n",
       "        vertical-align: top;\n",
       "    }\n",
       "\n",
       "    .dataframe thead th {\n",
       "        text-align: right;\n",
       "    }\n",
       "</style>\n",
       "<table border=\"1\" class=\"dataframe\">\n",
       "  <thead>\n",
       "    <tr style=\"text-align: right;\">\n",
       "      <th></th>\n",
       "      <th>dog-walking</th>\n",
       "      <th>*</th>\n",
       "      <th>drop-in</th>\n",
       "      <th>overnight</th>\n",
       "    </tr>\n",
       "  </thead>\n",
       "  <tbody>\n",
       "    <tr>\n",
       "      <td>gmv</td>\n",
       "      <td>0.0660</td>\n",
       "      <td>0.0800</td>\n",
       "      <td>0.0730</td>\n",
       "      <td>0.0810</td>\n",
       "    </tr>\n",
       "    <tr>\n",
       "      <td>nrt</td>\n",
       "      <td>0.0695</td>\n",
       "      <td>0.0815</td>\n",
       "      <td>0.0605</td>\n",
       "      <td>0.0745</td>\n",
       "    </tr>\n",
       "  </tbody>\n",
       "</table>\n",
       "</div>"
      ],
      "text/plain": [
       "     dog-walking       *  drop-in  overnight\n",
       "gmv       0.0660  0.0800   0.0730     0.0810\n",
       "nrt       0.0695  0.0815   0.0605     0.0745"
      ]
     },
     "execution_count": 29,
     "metadata": {},
     "output_type": "execute_result"
    }
   ],
   "source": [
    "power_data = [simulate_mann_whitney(new_account, metric, [1/3,1/3,1/3], 0.02, flat, 1000) for metric in metrics]\n",
    "new_account_df = pd.DataFrame(power_data, index=metrics)\n",
    "new_account_df"
   ]
  },
  {
   "cell_type": "markdown",
   "metadata": {},
   "source": [
    "#### New Accounts, Power for 2% Drop Zeros"
   ]
  },
  {
   "cell_type": "code",
   "execution_count": 30,
   "metadata": {},
   "outputs": [
    {
     "data": {
      "text/html": [
       "<div>\n",
       "<style scoped>\n",
       "    .dataframe tbody tr th:only-of-type {\n",
       "        vertical-align: middle;\n",
       "    }\n",
       "\n",
       "    .dataframe tbody tr th {\n",
       "        vertical-align: top;\n",
       "    }\n",
       "\n",
       "    .dataframe thead th {\n",
       "        text-align: right;\n",
       "    }\n",
       "</style>\n",
       "<table border=\"1\" class=\"dataframe\">\n",
       "  <thead>\n",
       "    <tr style=\"text-align: right;\">\n",
       "      <th></th>\n",
       "      <th>dog-walking</th>\n",
       "      <th>*</th>\n",
       "      <th>drop-in</th>\n",
       "      <th>overnight</th>\n",
       "    </tr>\n",
       "  </thead>\n",
       "  <tbody>\n",
       "    <tr>\n",
       "      <td>gmv</td>\n",
       "      <td>0.1360</td>\n",
       "      <td>0.3105</td>\n",
       "      <td>0.149</td>\n",
       "      <td>0.2105</td>\n",
       "    </tr>\n",
       "    <tr>\n",
       "      <td>nrt</td>\n",
       "      <td>0.1145</td>\n",
       "      <td>0.3140</td>\n",
       "      <td>0.138</td>\n",
       "      <td>0.2020</td>\n",
       "    </tr>\n",
       "  </tbody>\n",
       "</table>\n",
       "</div>"
      ],
      "text/plain": [
       "     dog-walking       *  drop-in  overnight\n",
       "gmv       0.1360  0.3105    0.149     0.2105\n",
       "nrt       0.1145  0.3140    0.138     0.2020"
      ]
     },
     "execution_count": 30,
     "metadata": {},
     "output_type": "execute_result"
    }
   ],
   "source": [
    "power_data = [simulate_mann_whitney(new_account, metric, [1/3,1/3,1/3], 0.02, zeros, 1000) for metric in metrics]\n",
    "new_account_df = pd.DataFrame(power_data, index=metrics)\n",
    "new_account_df"
   ]
  },
  {
   "cell_type": "markdown",
   "metadata": {},
   "source": [
    "#### New Accounts, Power for 5% Drop Flat Rate"
   ]
  },
  {
   "cell_type": "code",
   "execution_count": 33,
   "metadata": {},
   "outputs": [
    {
     "data": {
      "text/html": [
       "<div>\n",
       "<style scoped>\n",
       "    .dataframe tbody tr th:only-of-type {\n",
       "        vertical-align: middle;\n",
       "    }\n",
       "\n",
       "    .dataframe tbody tr th {\n",
       "        vertical-align: top;\n",
       "    }\n",
       "\n",
       "    .dataframe thead th {\n",
       "        text-align: right;\n",
       "    }\n",
       "</style>\n",
       "<table border=\"1\" class=\"dataframe\">\n",
       "  <thead>\n",
       "    <tr style=\"text-align: right;\">\n",
       "      <th></th>\n",
       "      <th>dog-walking</th>\n",
       "      <th>*</th>\n",
       "      <th>drop-in</th>\n",
       "      <th>overnight</th>\n",
       "    </tr>\n",
       "  </thead>\n",
       "  <tbody>\n",
       "    <tr>\n",
       "      <td>gmv</td>\n",
       "      <td>0.0925</td>\n",
       "      <td>0.158</td>\n",
       "      <td>0.1035</td>\n",
       "      <td>0.1295</td>\n",
       "    </tr>\n",
       "    <tr>\n",
       "      <td>nrt</td>\n",
       "      <td>0.0805</td>\n",
       "      <td>0.169</td>\n",
       "      <td>0.1035</td>\n",
       "      <td>0.1250</td>\n",
       "    </tr>\n",
       "  </tbody>\n",
       "</table>\n",
       "</div>"
      ],
      "text/plain": [
       "     dog-walking      *  drop-in  overnight\n",
       "gmv       0.0925  0.158   0.1035     0.1295\n",
       "nrt       0.0805  0.169   0.1035     0.1250"
      ]
     },
     "execution_count": 33,
     "metadata": {},
     "output_type": "execute_result"
    }
   ],
   "source": [
    "power_data = [simulate_mann_whitney(new_account, metric, [1/3,1/3,1/3], 0.05, flat, 1000) for metric in metrics]\n",
    "new_account_df = pd.DataFrame(power_data, index=metrics)\n",
    "new_account_df"
   ]
  },
  {
   "cell_type": "markdown",
   "metadata": {},
   "source": [
    "#### New Accounts, Power for 5% Drop Zeros"
   ]
  },
  {
   "cell_type": "code",
   "execution_count": 34,
   "metadata": {
    "scrolled": true
   },
   "outputs": [
    {
     "data": {
      "text/html": [
       "<div>\n",
       "<style scoped>\n",
       "    .dataframe tbody tr th:only-of-type {\n",
       "        vertical-align: middle;\n",
       "    }\n",
       "\n",
       "    .dataframe tbody tr th {\n",
       "        vertical-align: top;\n",
       "    }\n",
       "\n",
       "    .dataframe thead th {\n",
       "        text-align: right;\n",
       "    }\n",
       "</style>\n",
       "<table border=\"1\" class=\"dataframe\">\n",
       "  <thead>\n",
       "    <tr style=\"text-align: right;\">\n",
       "      <th></th>\n",
       "      <th>dog-walking</th>\n",
       "      <th>*</th>\n",
       "      <th>drop-in</th>\n",
       "      <th>overnight</th>\n",
       "    </tr>\n",
       "  </thead>\n",
       "  <tbody>\n",
       "    <tr>\n",
       "      <td>gmv</td>\n",
       "      <td>0.3340</td>\n",
       "      <td>0.897</td>\n",
       "      <td>0.3915</td>\n",
       "      <td>0.676</td>\n",
       "    </tr>\n",
       "    <tr>\n",
       "      <td>nrt</td>\n",
       "      <td>0.3615</td>\n",
       "      <td>0.904</td>\n",
       "      <td>0.3980</td>\n",
       "      <td>0.683</td>\n",
       "    </tr>\n",
       "  </tbody>\n",
       "</table>\n",
       "</div>"
      ],
      "text/plain": [
       "     dog-walking      *  drop-in  overnight\n",
       "gmv       0.3340  0.897   0.3915      0.676\n",
       "nrt       0.3615  0.904   0.3980      0.683"
      ]
     },
     "execution_count": 34,
     "metadata": {},
     "output_type": "execute_result"
    }
   ],
   "source": [
    "power_data = [simulate_mann_whitney(new_account, metric, [1/3,1/3,1/3], 0.05, zeros, 1000) for metric in metrics]\n",
    "new_account_df = pd.DataFrame(power_data, index=metrics)\n",
    "new_account_df"
   ]
  }
 ],
 "metadata": {
  "kernelspec": {
   "display_name": "rover-ds-taxes-increase",
   "language": "python",
   "name": "rover-ds-taxes-increase"
  },
  "language_info": {
   "codemirror_mode": {
    "name": "ipython",
    "version": 3
   },
   "file_extension": ".py",
   "mimetype": "text/x-python",
   "name": "python",
   "nbconvert_exporter": "python",
   "pygments_lexer": "ipython3",
   "version": "3.6.5"
  }
 },
 "nbformat": 4,
 "nbformat_minor": 2
}
