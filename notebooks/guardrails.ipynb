{
 "cells": [
  {
   "cell_type": "code",
   "execution_count": 76,
   "metadata": {},
   "outputs": [],
   "source": [
    "import sys\n",
    "sys.path.append('../')\n",
    "import pandas as pd\n",
    "import numpy as np\n",
    "import seaborn as sns\n",
    "import datetime"
   ]
  },
  {
   "cell_type": "markdown",
   "metadata": {},
   "source": [
    "## Get Mock 5 Day Data"
   ]
  },
  {
   "cell_type": "code",
   "execution_count": 91,
   "metadata": {},
   "outputs": [
    {
     "data": {
      "text/html": [
       "<div>\n",
       "<style scoped>\n",
       "    .dataframe tbody tr th:only-of-type {\n",
       "        vertical-align: middle;\n",
       "    }\n",
       "\n",
       "    .dataframe tbody tr th {\n",
       "        vertical-align: top;\n",
       "    }\n",
       "\n",
       "    .dataframe thead th {\n",
       "        text-align: right;\n",
       "    }\n",
       "</style>\n",
       "<table border=\"1\" class=\"dataframe\">\n",
       "  <thead>\n",
       "    <tr style=\"text-align: right;\">\n",
       "      <th></th>\n",
       "      <th>requester_id</th>\n",
       "      <th>bucketing_date</th>\n",
       "      <th>gmv</th>\n",
       "    </tr>\n",
       "  </thead>\n",
       "  <tbody>\n",
       "    <tr>\n",
       "      <td>0</td>\n",
       "      <td>6349788</td>\n",
       "      <td>2019-08-28 17:43:25</td>\n",
       "      <td>56.0</td>\n",
       "    </tr>\n",
       "    <tr>\n",
       "      <td>1</td>\n",
       "      <td>12543081</td>\n",
       "      <td>2019-08-28 04:50:55</td>\n",
       "      <td>110.0</td>\n",
       "    </tr>\n",
       "    <tr>\n",
       "      <td>2</td>\n",
       "      <td>12581997</td>\n",
       "      <td>2019-08-30 12:45:37</td>\n",
       "      <td>90.0</td>\n",
       "    </tr>\n",
       "  </tbody>\n",
       "</table>\n",
       "</div>"
      ],
      "text/plain": [
       "   requester_id      bucketing_date    gmv\n",
       "0       6349788 2019-08-28 17:43:25   56.0\n",
       "1      12543081 2019-08-28 04:50:55  110.0\n",
       "2      12581997 2019-08-30 12:45:37   90.0"
      ]
     },
     "execution_count": 91,
     "metadata": {},
     "output_type": "execute_result"
    }
   ],
   "source": [
    "data = pd.read_csv('../early_data.csv')\n",
    "data['bucketing_date'] = pd.to_datetime(data['bucketing_date'])\n",
    "data.head(3)"
   ]
  },
  {
   "cell_type": "markdown",
   "metadata": {},
   "source": [
    "#### Estimate samples per day based on last 7 days"
   ]
  },
  {
   "cell_type": "code",
   "execution_count": 83,
   "metadata": {},
   "outputs": [
    {
     "data": {
      "text/plain": [
       "2712"
      ]
     },
     "execution_count": 83,
     "metadata": {},
     "output_type": "execute_result"
    }
   ],
   "source": [
    "last_7 = data['bucketing_date'].max() - datetime.timedelta(days=7)\n",
    "samples_per_day = int(len(data.loc[data.bucketing_date >= last_7])/7)\n",
    "samples_per_day"
   ]
  },
  {
   "cell_type": "code",
   "execution_count": 128,
   "metadata": {},
   "outputs": [],
   "source": [
    "def sample_data(df, metric, samples, simulations):\n",
    "    \"\"\"\n",
    "    given a dataframe `df` with a metric of interst column `metric`,\n",
    "    select `samples` number of samples,\n",
    "    repeat for `simulations` number of simulations\n",
    "    \n",
    "    Returns:\n",
    "        meanOfMeans (float)\n",
    "        seOfMeans (float)\n",
    "    \"\"\"\n",
    "    metric_series = df[metric]\n",
    "    means = np.array([metric_series.sample(n=samples, replace=True).mean() for i in range(simulations)])\n",
    "    return {'meanOfMeans': means.mean(), 'SEOfMeans': means.std(), 'samples': samples}"
   ]
  },
  {
   "cell_type": "code",
   "execution_count": 135,
   "metadata": {},
   "outputs": [],
   "source": [
    "dist_stats = sample_data(data, 'gmv', int(samples_per_day*5*(2/3)*(1/2)), 1000)"
   ]
  },
  {
   "cell_type": "code",
   "execution_count": 154,
   "metadata": {},
   "outputs": [
    {
     "data": {
      "text/plain": [
       "{'meanOfMeans': 44.14396353097346,\n",
       " 'SEOfMeans': 1.4049632294146361,\n",
       " 'samples': 4520}"
      ]
     },
     "execution_count": 154,
     "metadata": {},
     "output_type": "execute_result"
    }
   ],
   "source": [
    "mean = dist_stats['meanOfMeans']\n",
    "se = dist_stats['SEOfMeans']\n",
    "samples = dist_stats['samples']\n",
    "dist_stats"
   ]
  },
  {
   "cell_type": "code",
   "execution_count": 161,
   "metadata": {},
   "outputs": [],
   "source": [
    "combined_se = ((se**2)+(se**2))**.5\n",
    "breakevens = [.116, .209]\n",
    "dof = (se**2+se**2)**2/(se**4/(samples-1) + se**4/(samples-1)) #https://stattrek.com/estimation/difference-in-means.aspx\n",
    "#welch_t_stat = (obs-contorl)/se_combined\n",
    "t_score = -1.96 #https://stattrek.com/online-calculator/t-distribution.aspx (p = .025, dof = 9038)"
   ]
  },
  {
   "cell_type": "code",
   "execution_count": 162,
   "metadata": {},
   "outputs": [
    {
     "data": {
      "text/plain": [
       "[0.20421952252810172, 0.2972195225281017]"
      ]
     },
     "execution_count": 162,
     "metadata": {},
     "output_type": "execute_result"
    }
   ],
   "source": [
    "def calc_observed_mean_2(mean_1, conf_lower, combined_se, t_score):\n",
    "    \"\"\"Calculate the difference in means you would have to observe \n",
    "    to get a 95% confidence interval with the lower bound conf_lower \n",
    "    assumes the control and treatment have the same standard error\n",
    "    \n",
    "    Args:\n",
    "        mean_1: mean of the control\n",
    "        conf_lower: lower bound of the confidence interval\n",
    "        combined_se: combined standard error of control and treatment\n",
    "    \"\"\"\n",
    "    \n",
    "    mean_2 = (conf_lower*mean_1-t_score*(combined_se))/mean_1\n",
    "    return mean_2\n",
    "\n",
    "observed_means = [calc_observed_mean_2(mean, breakeven, combined_se, t_score) for breakeven in breakevens]\n",
    "observed_means"
   ]
  },
  {
   "cell_type": "markdown",
   "metadata": {},
   "source": [
    "### For the 3.5% treatment group, if we see the breakeven point (11.6%) drop out of the 95% confidence interval, we should turn off that treatment. Based on historical data for estimating 5 days worth of data, that will happen if our observed mean is 20.4% lower than the control (assuming treatment does not change the standard deviation)\n",
    "### For the 7% treatment group, if we see the breakeven point (20.9%) drop out of the 95% confidence interval, we should turn off that treatment. Based on historical data for estimating 5 days worth of data, that will happen if our observed mean is 29.7% lower than the control (assuming treatment does not change the standard deviation)"
   ]
  }
 ],
 "metadata": {
  "kernelspec": {
   "display_name": "rover-ds-taxes-increase",
   "language": "python",
   "name": "rover-ds-taxes-increase"
  },
  "language_info": {
   "codemirror_mode": {
    "name": "ipython",
    "version": 3
   },
   "file_extension": ".py",
   "mimetype": "text/x-python",
   "name": "python",
   "nbconvert_exporter": "python",
   "pygments_lexer": "ipython3",
   "version": "3.6.5"
  }
 },
 "nbformat": 4,
 "nbformat_minor": 2
}
