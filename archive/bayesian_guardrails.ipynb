{
 "cells": [
  {
   "cell_type": "code",
   "execution_count": 18,
   "metadata": {},
   "outputs": [],
   "source": [
    "import sys\n",
    "sys.path.append('../')\n",
    "import pandas as pd\n",
    "import numpy as np\n",
    "import seaborn as sns\n",
    "import pymc3 as pm\n",
    "from roverdata.db import DataWarehouse\n",
    "from taxes_increase import utils"
   ]
  },
  {
   "cell_type": "markdown",
   "metadata": {},
   "source": [
    "## Get Early Data"
   ]
  },
  {
   "cell_type": "code",
   "execution_count": 13,
   "metadata": {},
   "outputs": [],
   "source": [
    "data = pd.read_csv('../early_data.csv')"
   ]
  },
  {
   "cell_type": "code",
   "execution_count": 52,
   "metadata": {},
   "outputs": [],
   "source": [
    "y1 = data.sample(frac=1/3).early_gmv.values\n",
    "y2 = data.sample(frac=1/3).early_gmv.values"
   ]
  },
  {
   "cell_type": "code",
   "execution_count": 53,
   "metadata": {},
   "outputs": [
    {
     "data": {
      "text/plain": [
       "<matplotlib.axes._subplots.AxesSubplot at 0x12f205518>"
      ]
     },
     "execution_count": 53,
     "metadata": {},
     "output_type": "execute_result"
    },
    {
     "data": {
      "image/png": "[encoded data removed]",
      "text/plain": [
       "<Figure size 432x288 with 1 Axes>"
      ]
     },
     "metadata": {
      "needs_background": "light"
     },
     "output_type": "display_data"
    }
   ],
   "source": [
    "sns.distplot(y1)\n",
    "sns.distplot(y2)"
   ]
  },
  {
   "cell_type": "code",
   "execution_count": 116,
   "metadata": {},
   "outputs": [],
   "source": [
    "def setup_priors(data):\n",
    "    ''' setup priors. takes in combined populations as input'''\n",
    "    priors = dict()\n",
    "\n",
    "    # Setup our priors\n",
    "    lower = np.var(data)/1000.0\n",
    "    upper = np.var(data)*1000\n",
    "\n",
    "    v = pm.Exponential(\"nu\", beta=1.0/29) + 1\n",
    "    tau = 1.0/np.var(data)/1000.0\n",
    "    mu1 = pm.Normal('mu1', mu=np.mean(data), tau=tau)\n",
    "    var1 = pm.Uniform('var1', lower=lower, upper=upper)\n",
    "\n",
    "    mu2 = pm.Normal('mu2', mu=np.mean(data), tau=tau)\n",
    "    var2 = pm.Uniform('var2', lower=lower, upper=upper)\n",
    "\n",
    "    priors['mu1'] = mu1\n",
    "    priors['var1'] = var1\n",
    "    priors['mu2'] = mu2\n",
    "    priors['var2'] = var2\n",
    "    priors['v'] = v\n",
    "    \n",
    "    return priors"
   ]
  },
  {
   "cell_type": "code",
   "execution_count": 117,
   "metadata": {},
   "outputs": [],
   "source": [
    "def generate_models(values, values2, priors):\n",
    "    '''generate models based on priors and given samples'''\n",
    "    v = priors['v']\n",
    "    mu1 = priors['mu1']\n",
    "    var1 = priors['var1']\n",
    "    lam1 = 1.0/var1\n",
    "\n",
    "    mu2 = priors['mu2']\n",
    "    var2 = priors['var2']\n",
    "    lam2 = 1.0/var2\n",
    "\n",
    "    # Include our observed data into the model\n",
    "    t1 = pm.NoncentralT(\"t1\", mu=mu1, lam=lam1, nu=v, value=values, observed=True)\n",
    "    t2 = pm.NoncentralT(\"t2\", mu=mu2, lam=lam2, nu=v, value=values2, observed=True)\n",
    "    # Push our priors into a model\n",
    "    model = pm.Model([t1, mu1, var1, t2, mu2, var2, v])\n",
    "    \n",
    "    return model"
   ]
  },
  {
   "cell_type": "code",
   "execution_count": null,
   "metadata": {},
   "outputs": [],
   "source": []
  },
  {
   "cell_type": "code",
   "execution_count": 62,
   "metadata": {},
   "outputs": [],
   "source": [
    "pooled = data.early_gmv.values"
   ]
  },
  {
   "cell_type": "code",
   "execution_count": 119,
   "metadata": {},
   "outputs": [],
   "source": [
    "with pm.Model() as model:\n",
    "    tau = 1.0/np.var(pooled)/1000.0\n",
    "    group1_mean = pm.Normal('group1_mean', mu=pooled.mean(), sd=pooled.std()*2)\n",
    "    group2_mean = pm.Normal('group2_mean', mu=pooled.mean(), sd=pooled.std()*2)"
   ]
  },
  {
   "cell_type": "code",
   "execution_count": 120,
   "metadata": {},
   "outputs": [],
   "source": [
    "std_low = pooled.std()/1000\n",
    "std_high = pooled.std()*1000\n",
    "\n",
    "with model:\n",
    "    group1_std = pm.Uniform('group1_std', lower=std_low, upper=std_high)\n",
    "    group2_std = pm.Uniform('group2_std', lower=std_low, upper=std_high)"
   ]
  },
  {
   "cell_type": "code",
   "execution_count": 121,
   "metadata": {},
   "outputs": [],
   "source": [
    "with model:\n",
    "    ν = pm.Exponential('ν_minus_one', 1/29.) + 1"
   ]
  },
  {
   "cell_type": "code",
   "execution_count": 123,
   "metadata": {},
   "outputs": [],
   "source": [
    "with model:\n",
    "    λ1 = group1_std**-2\n",
    "    λ1 = group2_std**-2\n",
    "\n",
    "    group1 = pm.StudentT('drug', nu=ν, mu=group1_mean, lam=λ1, observed=y1)\n",
    "    group2 = pm.StudentT('placebo', nu=ν, mu=group2_mean, lam=λ2, observed=y2)"
   ]
  },
  {
   "cell_type": "code",
   "execution_count": 71,
   "metadata": {},
   "outputs": [],
   "source": [
    "with model:\n",
    "    diff_of_means = pm.Deterministic('difference of means', group1_mean - group2_mean)\n",
    "    diff_of_stds = pm.Deterministic('difference of stds', group1_std - group2_std)\n",
    "    effect_size = pm.Deterministic('effect size',\n",
    "                                   diff_of_means / np.sqrt((group1_std**2 + group2_std**2) / 2))"
   ]
  },
  {
   "cell_type": "code",
   "execution_count": 72,
   "metadata": {},
   "outputs": [
    {
     "name": "stderr",
     "output_type": "stream",
     "text": [
      "Auto-assigning NUTS sampler...\n",
      "Initializing NUTS using jitter+adapt_diag...\n",
      "Multiprocess sampling (4 chains in 4 jobs)\n",
      "NUTS: [ν_minus_one, group2_std, group1_std, group2_mean, group1_mean]\n",
      "Sampling 4 chains: 100%|██████████| 10000/10000 [4:24:07<00:00,  1.58s/draws]      \n",
      "There were 1247 divergences after tuning. Increase `target_accept` or reparameterize.\n",
      "The acceptance probability does not match the target. It is 0.0649491560169248, but should be close to 0.8. Try to increase the number of tuning steps.\n",
      "The chain contains only diverging samples. The model is probably misspecified.\n",
      "The acceptance probability does not match the target. It is 0.0, but should be close to 0.8. Try to increase the number of tuning steps.\n",
      "There was 1 divergence after tuning. Increase `target_accept` or reparameterize.\n",
      "The acceptance probability does not match the target. It is 0.9626251233464548, but should be close to 0.8. Try to increase the number of tuning steps.\n",
      "The chain reached the maximum tree depth. Increase max_treedepth, increase target_accept or reparameterize.\n",
      "There were 883 divergences after tuning. Increase `target_accept` or reparameterize.\n",
      "The acceptance probability does not match the target. It is 0.1650429098872036, but should be close to 0.8. Try to increase the number of tuning steps.\n",
      "The gelman-rubin statistic is larger than 1.4 for some parameters. The sampler did not converge.\n",
      "The estimated number of effective samples is smaller than 200 for some parameters.\n"
     ]
    }
   ],
   "source": [
    "with model:\n",
    "    prior = pm.sample_prior_predictive(10000)\n",
    "    posterior = pm.sample(2000)\n",
    "    "
   ]
  },
  {
   "cell_type": "code",
   "execution_count": 94,
   "metadata": {},
   "outputs": [
    {
     "data": {
      "text/plain": [
       "['group1_mean',\n",
       " 'group2_mean',\n",
       " 'group1_std_interval__',\n",
       " 'group2_std_interval__',\n",
       " 'ν_minus_one_log__',\n",
       " 'group1_std',\n",
       " 'group2_std',\n",
       " 'ν_minus_one',\n",
       " 'difference of means',\n",
       " 'difference of stds',\n",
       " 'effect size']"
      ]
     },
     "execution_count": 94,
     "metadata": {},
     "output_type": "execute_result"
    }
   ],
   "source": [
    "posterior.varnames"
   ]
  },
  {
   "cell_type": "code",
   "execution_count": 113,
   "metadata": {},
   "outputs": [
    {
     "data": {
      "text/plain": [
       "array([-17.07416698, -17.07416698, -17.07416698, ..., -18.19933345,\n",
       "       -18.19933345, -18.19933345])"
      ]
     },
     "execution_count": 113,
     "metadata": {},
     "output_type": "execute_result"
    }
   ],
   "source": [
    "diffs = posterior['difference of means']\n",
    "diffs"
   ]
  },
  {
   "cell_type": "code",
   "execution_count": 103,
   "metadata": {},
   "outputs": [],
   "source": [
    "import seaborn as sns"
   ]
  },
  {
   "cell_type": "code",
   "execution_count": 114,
   "metadata": {},
   "outputs": [
    {
     "data": {
      "text/plain": [
       "<matplotlib.axes._subplots.AxesSubplot at 0x14204e8d0>"
      ]
     },
     "execution_count": 114,
     "metadata": {},
     "output_type": "execute_result"
    },
    {
     "data": {
      "image/png": "[encoded data removed]",
      "text/plain": [
       "<Figure size 432x288 with 1 Axes>"
      ]
     },
     "metadata": {
      "needs_background": "light"
     },
     "output_type": "display_data"
    }
   ],
   "source": [
    "sns.distplot(posterior['group1_mean'], kde=False, rug=True)"
   ]
  },
  {
   "cell_type": "markdown",
   "metadata": {},
   "source": [
    "## Get Sample Size Data"
   ]
  },
  {
   "cell_type": "code",
   "execution_count": 3,
   "metadata": {},
   "outputs": [],
   "source": [
    "samples = pd.read_csv('../retrans.csv')\n",
    "samples_new = samples.loc[samples['new_repeat']=='new'][['service','num_owners']].groupby(['service']).sum()\n",
    "samples_new_account = samples.loc[samples['new_account']=='new'][['service','num_owners']].set_index('service')"
   ]
  },
  {
   "cell_type": "code",
   "execution_count": 4,
   "metadata": {},
   "outputs": [],
   "source": [
    "def project_30_day_samples(df, samples_col):\n",
    "    \"\"\"from df with column `service` and inputted samples column (containing 30 day samples)\n",
    "    , project out 45 and 60 days\"\"\"\n",
    "    df = df[samples_col].reset_index().rename(columns={samples_col:'30_day'})\n",
    "    df['45_day'] = (df['30_day']*1.5).astype(int)\n",
    "    df['60_day'] = (df['30_day']*2).astype(int)\n",
    "    return df.set_index('service')\n",
    "\n",
    "\n",
    "expected_xx_day_samples_new = project_30_day_samples(df = samples_new, samples_col = 'num_owners')\n",
    "expected_xx_day_samples_new_account = project_30_day_samples(df = samples_new_account, samples_col = 'num_owners')"
   ]
  },
  {
   "cell_type": "markdown",
   "metadata": {},
   "source": [
    "## Estimate Distribution of Sample Statistic"
   ]
  },
  {
   "cell_type": "markdown",
   "metadata": {},
   "source": [
    "#### Estimate mean of means and standard error of means of sample statistic through simulation\n",
    "http://blog.analytics-toolkit.com/2017/statistical-significance-non-binomial-metrics-revenue-time-site-pages-session-aov-rpu/"
   ]
  },
  {
   "cell_type": "code",
   "execution_count": 5,
   "metadata": {},
   "outputs": [],
   "source": [
    "def sample_data(df, metric, samples, simulations):\n",
    "    \"\"\"\n",
    "    given a dataframe `df` with a metric of interst column `metric`,\n",
    "    select `samples` number of samples,\n",
    "    repeat for `simulations` number of simulations\n",
    "    \n",
    "    Returns:\n",
    "        meanOfMeans (float)\n",
    "        seOfMeans (float)\n",
    "    \"\"\"\n",
    "    metric_series = df[metric]\n",
    "    means = np.array([metric_series.sample(n=samples, replace=True).mean() for i in range(simulations)])\n",
    "    return means.mean(), means.std()"
   ]
  },
  {
   "cell_type": "code",
   "execution_count": 6,
   "metadata": {},
   "outputs": [],
   "source": [
    "def run_sample_data(df, expected_xx_day_samples):\n",
    "    \"\"\"loop through the services, metrics, and sample sizes and estimate mean of means and std of means\"\"\"\n",
    "    dist_stats_dict = {}\n",
    "    \n",
    "    for service in df.service.unique():\n",
    "        df_service = df.loc[df['service'] == service]\n",
    "        samples = expected_xx_day_samples.loc[service].to_dict()\n",
    "        for days, samples in samples.items():\n",
    "            for metric in ['gmv', 'nrt', 'stays']:\n",
    "                mom, seom = sample_data(df_service, metric, samples, 1000)\n",
    "                dist_stats_dict[(service, metric, days)] = (samples, mom, seom)  \n",
    "                \n",
    "    return pd.DataFrame.from_dict(dist_stats_dict, orient='index', columns=['samples','meanOfMeans','SEOfMeans'])"
   ]
  },
  {
   "cell_type": "code",
   "execution_count": 7,
   "metadata": {},
   "outputs": [],
   "source": [
    "dist_stats_new = run_sample_data(\n",
    "    df=new, \n",
    "    expected_xx_day_samples = expected_xx_day_samples_new\n",
    ")\n",
    "dist_stats_new_account = run_sample_data(\n",
    "    df=new_account, \n",
    "    expected_xx_day_samples = expected_xx_day_samples_new_account\n",
    ")"
   ]
  },
  {
   "cell_type": "markdown",
   "metadata": {},
   "source": [
    "## Calculate minimum effect size for 95% power at 95% significance"
   ]
  },
  {
   "cell_type": "code",
   "execution_count": 8,
   "metadata": {},
   "outputs": [],
   "source": [
    "from statsmodels.stats.power import tt_ind_solve_power"
   ]
  },
  {
   "cell_type": "code",
   "execution_count": 9,
   "metadata": {},
   "outputs": [],
   "source": [
    "def dict_to_df(d, col_name):\n",
    "    \"\"\"convert dictionary with key = (service, metric, sample_days) to a pandas dataframe \n",
    "    with columns = col_name\"\"\"\n",
    "    df = pd.DataFrame.from_dict(d, orient='index').rename(columns={0:col_name})\n",
    "    midx = pd.MultiIndex.from_tuples(df.index.values.tolist(), names =('service', 'metric', 'samples')) \n",
    "    df = df.set_index(midx)\n",
    "    df = df.pivot_table(index = ['service','samples'],  columns = ['metric'], values = col_name)\n",
    "    return df"
   ]
  },
  {
   "cell_type": "code",
   "execution_count": 45,
   "metadata": {},
   "outputs": [],
   "source": [
    "def calculate_mde(dist_stats):\n",
    "    \"\"\"Given the mean of means and standard deviation of means,\n",
    "    Calculated the difference in means that would yeild 95% power at 95% significance\n",
    "    \"\"\"\n",
    "    drop_dict = {}\n",
    "    value = None\n",
    "\n",
    "    for row in dist_stats.iterrows():\n",
    "        index = row[0]\n",
    "        data = row[1]\n",
    "        nobs = int(data.samples*(2/3)*(1/2))\n",
    "        mean = data.meanOfMeans\n",
    "        se = data.SEOfMeans\n",
    "        value = tt_ind_solve_power(effect_size=None, \n",
    "                                   nobs1=nobs, \n",
    "                                   alpha=.05, \n",
    "                                   power=.95, \n",
    "                                   ratio=1.0, \n",
    "                                   alternative='larger')\n",
    "        drop_pct = 1 - (mean-(value*(se*(nobs**0.5))))/mean \n",
    "        drop_dict[index] = drop_pct\n",
    "        \n",
    "    drop_df = dict_to_df(drop_dict, 'drop')\n",
    "    return drop_df*100\n"
   ]
  },
  {
   "cell_type": "markdown",
   "metadata": {},
   "source": [
    "### MDE: New Customers"
   ]
  },
  {
   "cell_type": "code",
   "execution_count": 46,
   "metadata": {},
   "outputs": [
    {
     "data": {
      "text/html": [
       "<div>\n",
       "<style scoped>\n",
       "    .dataframe tbody tr th:only-of-type {\n",
       "        vertical-align: middle;\n",
       "    }\n",
       "\n",
       "    .dataframe tbody tr th {\n",
       "        vertical-align: top;\n",
       "    }\n",
       "\n",
       "    .dataframe thead th {\n",
       "        text-align: right;\n",
       "    }\n",
       "</style>\n",
       "<table border=\"1\" class=\"dataframe\">\n",
       "  <thead>\n",
       "    <tr style=\"text-align: right;\">\n",
       "      <th></th>\n",
       "      <th>metric</th>\n",
       "      <th>gmv</th>\n",
       "      <th>nrt</th>\n",
       "      <th>stays</th>\n",
       "    </tr>\n",
       "    <tr>\n",
       "      <th>service</th>\n",
       "      <th>samples</th>\n",
       "      <th></th>\n",
       "      <th></th>\n",
       "      <th></th>\n",
       "    </tr>\n",
       "  </thead>\n",
       "  <tbody>\n",
       "    <tr>\n",
       "      <td rowspan=\"3\" valign=\"top\">*</td>\n",
       "      <td>30_day</td>\n",
       "      <td>5.243153</td>\n",
       "      <td>5.298154</td>\n",
       "      <td>5.470972</td>\n",
       "    </tr>\n",
       "    <tr>\n",
       "      <td>45_day</td>\n",
       "      <td>4.501466</td>\n",
       "      <td>4.376314</td>\n",
       "      <td>4.439713</td>\n",
       "    </tr>\n",
       "    <tr>\n",
       "      <td>60_day</td>\n",
       "      <td>3.705967</td>\n",
       "      <td>3.750442</td>\n",
       "      <td>4.077652</td>\n",
       "    </tr>\n",
       "    <tr>\n",
       "      <td rowspan=\"3\" valign=\"top\">dog-walking</td>\n",
       "      <td>30_day</td>\n",
       "      <td>13.828163</td>\n",
       "      <td>13.540090</td>\n",
       "      <td>12.396662</td>\n",
       "    </tr>\n",
       "    <tr>\n",
       "      <td>45_day</td>\n",
       "      <td>11.464241</td>\n",
       "      <td>11.502015</td>\n",
       "      <td>10.088191</td>\n",
       "    </tr>\n",
       "    <tr>\n",
       "      <td>60_day</td>\n",
       "      <td>10.115175</td>\n",
       "      <td>9.998297</td>\n",
       "      <td>8.666581</td>\n",
       "    </tr>\n",
       "    <tr>\n",
       "      <td rowspan=\"3\" valign=\"top\">drop-in</td>\n",
       "      <td>30_day</td>\n",
       "      <td>12.095776</td>\n",
       "      <td>12.217807</td>\n",
       "      <td>11.850778</td>\n",
       "    </tr>\n",
       "    <tr>\n",
       "      <td>45_day</td>\n",
       "      <td>9.862144</td>\n",
       "      <td>10.046307</td>\n",
       "      <td>10.211611</td>\n",
       "    </tr>\n",
       "    <tr>\n",
       "      <td>60_day</td>\n",
       "      <td>8.399081</td>\n",
       "      <td>8.684361</td>\n",
       "      <td>8.373505</td>\n",
       "    </tr>\n",
       "    <tr>\n",
       "      <td rowspan=\"3\" valign=\"top\">overnight</td>\n",
       "      <td>30_day</td>\n",
       "      <td>6.156505</td>\n",
       "      <td>6.264898</td>\n",
       "      <td>6.249366</td>\n",
       "    </tr>\n",
       "    <tr>\n",
       "      <td>45_day</td>\n",
       "      <td>5.281501</td>\n",
       "      <td>5.170180</td>\n",
       "      <td>5.122543</td>\n",
       "    </tr>\n",
       "    <tr>\n",
       "      <td>60_day</td>\n",
       "      <td>4.486558</td>\n",
       "      <td>4.391708</td>\n",
       "      <td>4.399682</td>\n",
       "    </tr>\n",
       "  </tbody>\n",
       "</table>\n",
       "</div>"
      ],
      "text/plain": [
       "metric                     gmv        nrt      stays\n",
       "service     samples                                 \n",
       "*           30_day    5.243153   5.298154   5.470972\n",
       "            45_day    4.501466   4.376314   4.439713\n",
       "            60_day    3.705967   3.750442   4.077652\n",
       "dog-walking 30_day   13.828163  13.540090  12.396662\n",
       "            45_day   11.464241  11.502015  10.088191\n",
       "            60_day   10.115175   9.998297   8.666581\n",
       "drop-in     30_day   12.095776  12.217807  11.850778\n",
       "            45_day    9.862144  10.046307  10.211611\n",
       "            60_day    8.399081   8.684361   8.373505\n",
       "overnight   30_day    6.156505   6.264898   6.249366\n",
       "            45_day    5.281501   5.170180   5.122543\n",
       "            60_day    4.486558   4.391708   4.399682"
      ]
     },
     "execution_count": 46,
     "metadata": {},
     "output_type": "execute_result"
    }
   ],
   "source": [
    "calculate_mde(dist_stats_new)"
   ]
  },
  {
   "cell_type": "markdown",
   "metadata": {},
   "source": [
    "### MDE: New Accounts"
   ]
  },
  {
   "cell_type": "code",
   "execution_count": 29,
   "metadata": {},
   "outputs": [
    {
     "data": {
      "text/html": [
       "<div>\n",
       "<style scoped>\n",
       "    .dataframe tbody tr th:only-of-type {\n",
       "        vertical-align: middle;\n",
       "    }\n",
       "\n",
       "    .dataframe tbody tr th {\n",
       "        vertical-align: top;\n",
       "    }\n",
       "\n",
       "    .dataframe thead th {\n",
       "        text-align: right;\n",
       "    }\n",
       "</style>\n",
       "<table border=\"1\" class=\"dataframe\">\n",
       "  <thead>\n",
       "    <tr style=\"text-align: right;\">\n",
       "      <th></th>\n",
       "      <th>metric</th>\n",
       "      <th>gmv</th>\n",
       "      <th>nrt</th>\n",
       "      <th>stays</th>\n",
       "    </tr>\n",
       "    <tr>\n",
       "      <th>service</th>\n",
       "      <th>samples</th>\n",
       "      <th></th>\n",
       "      <th></th>\n",
       "      <th></th>\n",
       "    </tr>\n",
       "  </thead>\n",
       "  <tbody>\n",
       "    <tr>\n",
       "      <td rowspan=\"3\" valign=\"top\">*</td>\n",
       "      <td>30_day</td>\n",
       "      <td>7.039586</td>\n",
       "      <td>6.839958</td>\n",
       "      <td>7.195719</td>\n",
       "    </tr>\n",
       "    <tr>\n",
       "      <td>45_day</td>\n",
       "      <td>5.689205</td>\n",
       "      <td>5.803814</td>\n",
       "      <td>5.775493</td>\n",
       "    </tr>\n",
       "    <tr>\n",
       "      <td>60_day</td>\n",
       "      <td>5.017123</td>\n",
       "      <td>4.925299</td>\n",
       "      <td>5.311064</td>\n",
       "    </tr>\n",
       "    <tr>\n",
       "      <td rowspan=\"3\" valign=\"top\">dog-walking</td>\n",
       "      <td>30_day</td>\n",
       "      <td>17.937864</td>\n",
       "      <td>17.398971</td>\n",
       "      <td>15.453574</td>\n",
       "    </tr>\n",
       "    <tr>\n",
       "      <td>45_day</td>\n",
       "      <td>15.006511</td>\n",
       "      <td>14.660083</td>\n",
       "      <td>12.952098</td>\n",
       "    </tr>\n",
       "    <tr>\n",
       "      <td>60_day</td>\n",
       "      <td>13.081287</td>\n",
       "      <td>12.827295</td>\n",
       "      <td>11.155992</td>\n",
       "    </tr>\n",
       "    <tr>\n",
       "      <td rowspan=\"3\" valign=\"top\">drop-in</td>\n",
       "      <td>30_day</td>\n",
       "      <td>15.344262</td>\n",
       "      <td>15.437471</td>\n",
       "      <td>15.291979</td>\n",
       "    </tr>\n",
       "    <tr>\n",
       "      <td>45_day</td>\n",
       "      <td>12.524476</td>\n",
       "      <td>12.384092</td>\n",
       "      <td>12.245775</td>\n",
       "    </tr>\n",
       "    <tr>\n",
       "      <td>60_day</td>\n",
       "      <td>10.507581</td>\n",
       "      <td>11.006046</td>\n",
       "      <td>10.810222</td>\n",
       "    </tr>\n",
       "    <tr>\n",
       "      <td rowspan=\"3\" valign=\"top\">overnight</td>\n",
       "      <td>30_day</td>\n",
       "      <td>8.477425</td>\n",
       "      <td>8.192489</td>\n",
       "      <td>8.376794</td>\n",
       "    </tr>\n",
       "    <tr>\n",
       "      <td>45_day</td>\n",
       "      <td>6.693400</td>\n",
       "      <td>6.614949</td>\n",
       "      <td>7.164113</td>\n",
       "    </tr>\n",
       "    <tr>\n",
       "      <td>60_day</td>\n",
       "      <td>6.168300</td>\n",
       "      <td>6.057379</td>\n",
       "      <td>6.114535</td>\n",
       "    </tr>\n",
       "  </tbody>\n",
       "</table>\n",
       "</div>"
      ],
      "text/plain": [
       "metric                     gmv        nrt      stays\n",
       "service     samples                                 \n",
       "*           30_day    7.039586   6.839958   7.195719\n",
       "            45_day    5.689205   5.803814   5.775493\n",
       "            60_day    5.017123   4.925299   5.311064\n",
       "dog-walking 30_day   17.937864  17.398971  15.453574\n",
       "            45_day   15.006511  14.660083  12.952098\n",
       "            60_day   13.081287  12.827295  11.155992\n",
       "drop-in     30_day   15.344262  15.437471  15.291979\n",
       "            45_day   12.524476  12.384092  12.245775\n",
       "            60_day   10.507581  11.006046  10.810222\n",
       "overnight   30_day    8.477425   8.192489   8.376794\n",
       "            45_day    6.693400   6.614949   7.164113\n",
       "            60_day    6.168300   6.057379   6.114535"
      ]
     },
     "execution_count": 29,
     "metadata": {},
     "output_type": "execute_result"
    }
   ],
   "source": [
    "calculate_mde(dist_stats_new_account)"
   ]
  },
  {
   "cell_type": "markdown",
   "metadata": {},
   "source": [
    "## Calculate power for 6% drop at 95% significance"
   ]
  },
  {
   "cell_type": "code",
   "execution_count": 34,
   "metadata": {},
   "outputs": [],
   "source": [
    "def calculate_power(dist_stats):\n",
    "    \"\"\"Given the mean of means and standard deviation of means,\n",
    "    Calculated the power given a minimum effect size of 6% and 95% significance\n",
    "    \"\"\"\n",
    "\n",
    "    power_dict = {}\n",
    "    value = None\n",
    "\n",
    "    for row in dist_stats.iterrows():\n",
    "        index = row[0]\n",
    "        data = row[1]\n",
    "        nobs = int(data.samples*(2/3)*(1/2))\n",
    "        mean = data.meanOfMeans\n",
    "        se = data.SEOfMeans\n",
    "        drop_pct = .06\n",
    "        standardized_effect = (mean-mean*(1-drop_pct))/(se*(nobs**0.5))\n",
    "        value = tt_ind_solve_power(effect_size=standardized_effect, \n",
    "                                   nobs1=nobs, \n",
    "                                   alpha=.05, \n",
    "                                   power=None, \n",
    "                                   ratio=1.0, \n",
    "                                   alternative='larger')\n",
    "        power_dict[index] = value\n",
    "    \n",
    "    power_df = dict_to_df(power_dict, 'power')\n",
    "    return power_df*100\n"
   ]
  },
  {
   "cell_type": "markdown",
   "metadata": {},
   "source": [
    "### Power: New Customers"
   ]
  },
  {
   "cell_type": "code",
   "execution_count": 35,
   "metadata": {},
   "outputs": [
    {
     "data": {
      "text/html": [
       "<div>\n",
       "<style scoped>\n",
       "    .dataframe tbody tr th:only-of-type {\n",
       "        vertical-align: middle;\n",
       "    }\n",
       "\n",
       "    .dataframe tbody tr th {\n",
       "        vertical-align: top;\n",
       "    }\n",
       "\n",
       "    .dataframe thead th {\n",
       "        text-align: right;\n",
       "    }\n",
       "</style>\n",
       "<table border=\"1\" class=\"dataframe\">\n",
       "  <thead>\n",
       "    <tr style=\"text-align: right;\">\n",
       "      <th></th>\n",
       "      <th>metric</th>\n",
       "      <th>gmv</th>\n",
       "      <th>nrt</th>\n",
       "      <th>stays</th>\n",
       "    </tr>\n",
       "    <tr>\n",
       "      <th>service</th>\n",
       "      <th>samples</th>\n",
       "      <th></th>\n",
       "      <th></th>\n",
       "      <th></th>\n",
       "    </tr>\n",
       "  </thead>\n",
       "  <tbody>\n",
       "    <tr>\n",
       "      <td rowspan=\"3\" valign=\"top\">*</td>\n",
       "      <td>30_day</td>\n",
       "      <td>98.297948</td>\n",
       "      <td>98.126042</td>\n",
       "      <td>97.516698</td>\n",
       "    </tr>\n",
       "    <tr>\n",
       "      <td>45_day</td>\n",
       "      <td>99.692649</td>\n",
       "      <td>99.791643</td>\n",
       "      <td>99.745135</td>\n",
       "    </tr>\n",
       "    <tr>\n",
       "      <td>60_day</td>\n",
       "      <td>99.999995</td>\n",
       "      <td>99.985137</td>\n",
       "      <td>99.930181</td>\n",
       "    </tr>\n",
       "    <tr>\n",
       "      <td rowspan=\"3\" valign=\"top\">dog-walking</td>\n",
       "      <td>30_day</td>\n",
       "      <td>41.393020</td>\n",
       "      <td>42.579992</td>\n",
       "      <td>47.901851</td>\n",
       "    </tr>\n",
       "    <tr>\n",
       "      <td>45_day</td>\n",
       "      <td>53.064734</td>\n",
       "      <td>52.839773</td>\n",
       "      <td>62.238382</td>\n",
       "    </tr>\n",
       "    <tr>\n",
       "      <td>60_day</td>\n",
       "      <td>62.038995</td>\n",
       "      <td>62.904161</td>\n",
       "      <td>73.652515</td>\n",
       "    </tr>\n",
       "    <tr>\n",
       "      <td rowspan=\"3\" valign=\"top\">drop-in</td>\n",
       "      <td>30_day</td>\n",
       "      <td>49.480926</td>\n",
       "      <td>48.830853</td>\n",
       "      <td>50.826722</td>\n",
       "    </tr>\n",
       "    <tr>\n",
       "      <td>45_day</td>\n",
       "      <td>63.930701</td>\n",
       "      <td>62.548452</td>\n",
       "      <td>61.336951</td>\n",
       "    </tr>\n",
       "    <tr>\n",
       "      <td>60_day</td>\n",
       "      <td>75.965530</td>\n",
       "      <td>73.499654</td>\n",
       "      <td>76.188280</td>\n",
       "    </tr>\n",
       "    <tr>\n",
       "      <td rowspan=\"3\" valign=\"top\">overnight</td>\n",
       "      <td>30_day</td>\n",
       "      <td>94.076402</td>\n",
       "      <td>93.393418</td>\n",
       "      <td>93.493374</td>\n",
       "    </tr>\n",
       "    <tr>\n",
       "      <td>45_day</td>\n",
       "      <td>98.179928</td>\n",
       "      <td>98.510547</td>\n",
       "      <td>98.639132</td>\n",
       "    </tr>\n",
       "    <tr>\n",
       "      <td>60_day</td>\n",
       "      <td>99.706322</td>\n",
       "      <td>99.781252</td>\n",
       "      <td>99.775583</td>\n",
       "    </tr>\n",
       "  </tbody>\n",
       "</table>\n",
       "</div>"
      ],
      "text/plain": [
       "metric                     gmv        nrt      stays\n",
       "service     samples                                 \n",
       "*           30_day   98.297948  98.126042  97.516698\n",
       "            45_day   99.692649  99.791643  99.745135\n",
       "            60_day   99.999995  99.985137  99.930181\n",
       "dog-walking 30_day   41.393020  42.579992  47.901851\n",
       "            45_day   53.064734  52.839773  62.238382\n",
       "            60_day   62.038995  62.904161  73.652515\n",
       "drop-in     30_day   49.480926  48.830853  50.826722\n",
       "            45_day   63.930701  62.548452  61.336951\n",
       "            60_day   75.965530  73.499654  76.188280\n",
       "overnight   30_day   94.076402  93.393418  93.493374\n",
       "            45_day   98.179928  98.510547  98.639132\n",
       "            60_day   99.706322  99.781252  99.775583"
      ]
     },
     "execution_count": 35,
     "metadata": {},
     "output_type": "execute_result"
    }
   ],
   "source": [
    "calculate_power(dist_stats_new)"
   ]
  },
  {
   "cell_type": "markdown",
   "metadata": {},
   "source": [
    "### Power: New Accounts"
   ]
  },
  {
   "cell_type": "code",
   "execution_count": 36,
   "metadata": {},
   "outputs": [
    {
     "data": {
      "text/html": [
       "<div>\n",
       "<style scoped>\n",
       "    .dataframe tbody tr th:only-of-type {\n",
       "        vertical-align: middle;\n",
       "    }\n",
       "\n",
       "    .dataframe tbody tr th {\n",
       "        vertical-align: top;\n",
       "    }\n",
       "\n",
       "    .dataframe thead th {\n",
       "        text-align: right;\n",
       "    }\n",
       "</style>\n",
       "<table border=\"1\" class=\"dataframe\">\n",
       "  <thead>\n",
       "    <tr style=\"text-align: right;\">\n",
       "      <th></th>\n",
       "      <th>metric</th>\n",
       "      <th>gmv</th>\n",
       "      <th>nrt</th>\n",
       "      <th>stays</th>\n",
       "    </tr>\n",
       "    <tr>\n",
       "      <th>service</th>\n",
       "      <th>samples</th>\n",
       "      <th></th>\n",
       "      <th></th>\n",
       "      <th></th>\n",
       "    </tr>\n",
       "  </thead>\n",
       "  <tbody>\n",
       "    <tr>\n",
       "      <td rowspan=\"3\" valign=\"top\">*</td>\n",
       "      <td>30_day</td>\n",
       "      <td>87.678161</td>\n",
       "      <td>89.267514</td>\n",
       "      <td>86.394322</td>\n",
       "    </tr>\n",
       "    <tr>\n",
       "      <td>45_day</td>\n",
       "      <td>96.596627</td>\n",
       "      <td>96.045996</td>\n",
       "      <td>96.186294</td>\n",
       "    </tr>\n",
       "    <tr>\n",
       "      <td>60_day</td>\n",
       "      <td>98.896950</td>\n",
       "      <td>99.092790</td>\n",
       "      <td>98.084768</td>\n",
       "    </tr>\n",
       "    <tr>\n",
       "      <td rowspan=\"3\" valign=\"top\">dog-walking</td>\n",
       "      <td>30_day</td>\n",
       "      <td>29.305357</td>\n",
       "      <td>30.488403</td>\n",
       "      <td>35.658848</td>\n",
       "    </tr>\n",
       "    <tr>\n",
       "      <td>45_day</td>\n",
       "      <td>37.087976</td>\n",
       "      <td>38.268290</td>\n",
       "      <td>45.188845</td>\n",
       "    </tr>\n",
       "    <tr>\n",
       "      <td>60_day</td>\n",
       "      <td>44.592566</td>\n",
       "      <td>45.775762</td>\n",
       "      <td>54.951722</td>\n",
       "    </tr>\n",
       "    <tr>\n",
       "      <td rowspan=\"3\" valign=\"top\">drop-in</td>\n",
       "      <td>30_day</td>\n",
       "      <td>35.998753</td>\n",
       "      <td>35.708592</td>\n",
       "      <td>36.163420</td>\n",
       "    </tr>\n",
       "    <tr>\n",
       "      <td>45_day</td>\n",
       "      <td>47.254521</td>\n",
       "      <td>47.965943</td>\n",
       "      <td>48.683500</td>\n",
       "    </tr>\n",
       "    <tr>\n",
       "      <td>60_day</td>\n",
       "      <td>59.237765</td>\n",
       "      <td>55.906029</td>\n",
       "      <td>57.184556</td>\n",
       "    </tr>\n",
       "    <tr>\n",
       "      <td rowspan=\"3\" valign=\"top\">overnight</td>\n",
       "      <td>30_day</td>\n",
       "      <td>75.283745</td>\n",
       "      <td>77.769284</td>\n",
       "      <td>76.158677</td>\n",
       "    </tr>\n",
       "    <tr>\n",
       "      <td>45_day</td>\n",
       "      <td>90.389408</td>\n",
       "      <td>90.972068</td>\n",
       "      <td>86.656664</td>\n",
       "    </tr>\n",
       "    <tr>\n",
       "      <td>60_day</td>\n",
       "      <td>94.003888</td>\n",
       "      <td>94.670335</td>\n",
       "      <td>94.331629</td>\n",
       "    </tr>\n",
       "  </tbody>\n",
       "</table>\n",
       "</div>"
      ],
      "text/plain": [
       "metric                     gmv        nrt      stays\n",
       "service     samples                                 \n",
       "*           30_day   87.678161  89.267514  86.394322\n",
       "            45_day   96.596627  96.045996  96.186294\n",
       "            60_day   98.896950  99.092790  98.084768\n",
       "dog-walking 30_day   29.305357  30.488403  35.658848\n",
       "            45_day   37.087976  38.268290  45.188845\n",
       "            60_day   44.592566  45.775762  54.951722\n",
       "drop-in     30_day   35.998753  35.708592  36.163420\n",
       "            45_day   47.254521  47.965943  48.683500\n",
       "            60_day   59.237765  55.906029  57.184556\n",
       "overnight   30_day   75.283745  77.769284  76.158677\n",
       "            45_day   90.389408  90.972068  86.656664\n",
       "            60_day   94.003888  94.670335  94.331629"
      ]
     },
     "execution_count": 36,
     "metadata": {},
     "output_type": "execute_result"
    }
   ],
   "source": [
    "calculate_power(dist_stats_new_account)"
   ]
  },
  {
   "cell_type": "markdown",
   "metadata": {},
   "source": [
    "## Guardrails"
   ]
  },
  {
   "cell_type": "code",
   "execution_count": null,
   "metadata": {},
   "outputs": [],
   "source": []
  }
 ],
 "metadata": {
  "kernelspec": {
   "display_name": "rover-ds-taxes-increase",
   "language": "python",
   "name": "rover-ds-taxes-increase"
  },
  "language_info": {
   "codemirror_mode": {
    "name": "ipython",
    "version": 3
   },
   "file_extension": ".py",
   "mimetype": "text/x-python",
   "name": "python",
   "nbconvert_exporter": "python",
   "pygments_lexer": "ipython3",
   "version": "3.6.5"
  }
 },
 "nbformat": 4,
 "nbformat_minor": 2
}
