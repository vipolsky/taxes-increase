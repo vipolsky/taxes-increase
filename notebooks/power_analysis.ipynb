{
 "cells": [
  {
   "cell_type": "code",
   "execution_count": 1,
   "metadata": {},
   "outputs": [],
   "source": [
    "import sys\n",
    "sys.path.append('../')\n",
    "import pandas as pd\n",
    "import numpy as np\n",
    "import seaborn as sns\n",
    "import datetime"
   ]
  },
  {
   "cell_type": "markdown",
   "metadata": {},
   "source": [
    "## Get 180 Day Data"
   ]
  },
  {
   "cell_type": "code",
   "execution_count": 3,
   "metadata": {},
   "outputs": [
    {
     "data": {
      "text/html": [
       "<div>\n",
       "<style scoped>\n",
       "    .dataframe tbody tr th:only-of-type {\n",
       "        vertical-align: middle;\n",
       "    }\n",
       "\n",
       "    .dataframe tbody tr th {\n",
       "        vertical-align: top;\n",
       "    }\n",
       "\n",
       "    .dataframe thead th {\n",
       "        text-align: right;\n",
       "    }\n",
       "</style>\n",
       "<table border=\"1\" class=\"dataframe\">\n",
       "  <thead>\n",
       "    <tr style=\"text-align: right;\">\n",
       "      <th></th>\n",
       "      <th>requester_id</th>\n",
       "      <th>bucketing_date</th>\n",
       "      <th>gmv</th>\n",
       "    </tr>\n",
       "  </thead>\n",
       "  <tbody>\n",
       "    <tr>\n",
       "      <td>0</td>\n",
       "      <td>7755479</td>\n",
       "      <td>2018-10-08 13:40:40</td>\n",
       "      <td>598.0</td>\n",
       "    </tr>\n",
       "    <tr>\n",
       "      <td>1</td>\n",
       "      <td>6015079</td>\n",
       "      <td>2018-10-08 19:27:38</td>\n",
       "      <td>102.0</td>\n",
       "    </tr>\n",
       "    <tr>\n",
       "      <td>2</td>\n",
       "      <td>7163831</td>\n",
       "      <td>2018-10-09 12:24:43</td>\n",
       "      <td>332.0</td>\n",
       "    </tr>\n",
       "  </tbody>\n",
       "</table>\n",
       "</div>"
      ],
      "text/plain": [
       "   requester_id      bucketing_date    gmv\n",
       "0       7755479 2018-10-08 13:40:40  598.0\n",
       "1       6015079 2018-10-08 19:27:38  102.0\n",
       "2       7163831 2018-10-09 12:24:43  332.0"
      ]
     },
     "execution_count": 3,
     "metadata": {},
     "output_type": "execute_result"
    }
   ],
   "source": [
    "data = pd.read_csv('../data.csv')\n",
    "data['bucketing_date'] = pd.to_datetime(data['bucketing_date'])\n",
    "data.head(3)"
   ]
  },
  {
   "cell_type": "markdown",
   "metadata": {},
   "source": [
    "#### Estimate samples per day based on last 7 days"
   ]
  },
  {
   "cell_type": "code",
   "execution_count": 4,
   "metadata": {},
   "outputs": [],
   "source": [
    "samples_per_day = 2712 #from guardrails.ipynb"
   ]
  },
  {
   "cell_type": "code",
   "execution_count": 5,
   "metadata": {},
   "outputs": [],
   "source": [
    "def sample_data(df, metric, samples, simulations):\n",
    "    \"\"\"\n",
    "    given a dataframe `df` with a metric of interst column `metric`,\n",
    "    select `samples` number of samples,\n",
    "    repeat for `simulations` number of simulations\n",
    "    \n",
    "    Returns:\n",
    "        meanOfMeans (float)\n",
    "        seOfMeans (float)\n",
    "    \"\"\"\n",
    "    metric_series = df[metric]\n",
    "    means = np.array([metric_series.sample(n=samples, replace=True).mean() for i in range(simulations)])\n",
    "    return {'meanOfMeans': means.mean(), 'SEOfMeans': means.std(), 'samples': samples}"
   ]
  },
  {
   "cell_type": "code",
   "execution_count": 6,
   "metadata": {},
   "outputs": [],
   "source": [
    "days = [30,45,60]\n",
    "dist_stats = [sample_data(data, 'gmv', int(samples_per_day*day*(2/3)*(1/2)), 1000) for day in days]"
   ]
  },
  {
   "cell_type": "code",
   "execution_count": 7,
   "metadata": {},
   "outputs": [
    {
     "data": {
      "text/plain": [
       "[{'meanOfMeans': 146.89160374483774,\n",
       "  'SEOfMeans': 1.6655195821035258,\n",
       "  'samples': 27120},\n",
       " {'meanOfMeans': 146.88601817748275,\n",
       "  'SEOfMeans': 1.3901359866296743,\n",
       "  'samples': 40680},\n",
       " {'meanOfMeans': 146.85727731213126,\n",
       "  'SEOfMeans': 1.1999269009669387,\n",
       "  'samples': 54240}]"
      ]
     },
     "execution_count": 7,
     "metadata": {},
     "output_type": "execute_result"
    }
   ],
   "source": [
    "dist_stats"
   ]
  },
  {
   "cell_type": "code",
   "execution_count": 18,
   "metadata": {},
   "outputs": [],
   "source": [
    "from statsmodels.stats.power import tt_ind_solve_power"
   ]
  },
  {
   "cell_type": "code",
   "execution_count": 34,
   "metadata": {},
   "outputs": [],
   "source": [
    "def calculate_mde(dist_stats):\n",
    "    nobs = dist_stats['samples']\n",
    "    mean = dist_stats['meanOfMeans']\n",
    "    se = dist_stats['SEOfMeans']\n",
    "    combined_se = ((se**2)+(se**2))**.5\n",
    "    value = tt_ind_solve_power(effect_size=None, \n",
    "                               nobs1=nobs, \n",
    "                               alpha=.05, \n",
    "                               power=.95, \n",
    "                               ratio=1.0, \n",
    "                               alternative='two-sided')\n",
    "    drop_pct = 1 - (mean-(value*(combined_se*(nobs**0.5))))/mean \n",
    "    return drop_pct"
   ]
  },
  {
   "cell_type": "code",
   "execution_count": 35,
   "metadata": {},
   "outputs": [
    {
     "data": {
      "text/plain": [
       "[0.08175306627048029, 0.06823367511508271, 0.05890372034649405]"
      ]
     },
     "execution_count": 35,
     "metadata": {},
     "output_type": "execute_result"
    }
   ],
   "source": [
    "drop_pct = [calculate_mde(stat) for stat in dist_stats]\n",
    "drop_pct"
   ]
  },
  {
   "cell_type": "code",
   "execution_count": 31,
   "metadata": {},
   "outputs": [
    {
     "data": {
      "text/html": [
       "<div>\n",
       "<style scoped>\n",
       "    .dataframe tbody tr th:only-of-type {\n",
       "        vertical-align: middle;\n",
       "    }\n",
       "\n",
       "    .dataframe tbody tr th {\n",
       "        vertical-align: top;\n",
       "    }\n",
       "\n",
       "    .dataframe thead th {\n",
       "        text-align: right;\n",
       "    }\n",
       "</style>\n",
       "<table border=\"1\" class=\"dataframe\">\n",
       "  <thead>\n",
       "    <tr style=\"text-align: right;\">\n",
       "      <th></th>\n",
       "      <th>days_of_bucketing</th>\n",
       "      <th>samples</th>\n",
       "      <th>minimum_detectable_effect</th>\n",
       "    </tr>\n",
       "  </thead>\n",
       "  <tbody>\n",
       "    <tr>\n",
       "      <td>0</td>\n",
       "      <td>30</td>\n",
       "      <td>27120</td>\n",
       "      <td>8.18</td>\n",
       "    </tr>\n",
       "    <tr>\n",
       "      <td>1</td>\n",
       "      <td>45</td>\n",
       "      <td>40680</td>\n",
       "      <td>6.82</td>\n",
       "    </tr>\n",
       "    <tr>\n",
       "      <td>2</td>\n",
       "      <td>60</td>\n",
       "      <td>54240</td>\n",
       "      <td>5.89</td>\n",
       "    </tr>\n",
       "  </tbody>\n",
       "</table>\n",
       "</div>"
      ],
      "text/plain": [
       "   days_of_bucketing  samples  minimum_detectable_effect\n",
       "0                 30    27120                       8.18\n",
       "1                 45    40680                       6.82\n",
       "2                 60    54240                       5.89"
      ]
     },
     "execution_count": 31,
     "metadata": {},
     "output_type": "execute_result"
    }
   ],
   "source": [
    "pd.DataFrame({'days_of_bucketing': days, 'samples': [x['samples'] for x in dist_stats]\n",
    "              , 'minimum_detectable_effect':[round(x*100,2) for x in drop_pct]})"
   ]
  }
 ],
 "metadata": {
  "kernelspec": {
   "display_name": "rover-ds-taxes-increase",
   "language": "python",
   "name": "rover-ds-taxes-increase"
  },
  "language_info": {
   "codemirror_mode": {
    "name": "ipython",
    "version": 3
   },
   "file_extension": ".py",
   "mimetype": "text/x-python",
   "name": "python",
   "nbconvert_exporter": "python",
   "pygments_lexer": "ipython3",
   "version": "3.6.5"
  }
 },
 "nbformat": 4,
 "nbformat_minor": 2
}
