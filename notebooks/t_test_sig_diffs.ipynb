{
 "cells": [
  {
   "cell_type": "code",
   "execution_count": 1,
   "metadata": {},
   "outputs": [],
   "source": [
    "import sys\n",
    "sys.path.append('../')\n",
    "from collections import defaultdict\n",
    "import pandas as pd\n",
    "import numpy as np\n",
    "from scipy.stats import mannwhitneyu\n",
    "from roverdata.db import DataWarehouse\n",
    "from taxes_increase import utils"
   ]
  },
  {
   "cell_type": "markdown",
   "metadata": {},
   "source": [
    "## Get LTV Data"
   ]
  },
  {
   "cell_type": "code",
   "execution_count": 2,
   "metadata": {},
   "outputs": [],
   "source": [
    "LTV = pd.read_csv('../LTV.csv')"
   ]
  },
  {
   "cell_type": "markdown",
   "metadata": {},
   "source": [
    "#### 180 Day LTV Data"
   ]
  },
  {
   "cell_type": "code",
   "execution_count": 3,
   "metadata": {},
   "outputs": [],
   "source": [
    "LTV180 = LTV.loc[LTV.dates == 180]"
   ]
  },
  {
   "cell_type": "markdown",
   "metadata": {},
   "source": [
    "#### 180 LTV Data for New Customers"
   ]
  },
  {
   "cell_type": "code",
   "execution_count": 4,
   "metadata": {},
   "outputs": [],
   "source": [
    "new = LTV180.loc[LTV180.new_repeat == 'new']"
   ]
  },
  {
   "cell_type": "markdown",
   "metadata": {},
   "source": [
    "#### 180 LTV Data for New Account Customers"
   ]
  },
  {
   "cell_type": "code",
   "execution_count": 5,
   "metadata": {},
   "outputs": [],
   "source": [
    "new_account = LTV180.loc[LTV180.new_account == 'new']"
   ]
  },
  {
   "cell_type": "markdown",
   "metadata": {},
   "source": [
    "## Get Sample Size Data"
   ]
  },
  {
   "cell_type": "code",
   "execution_count": 6,
   "metadata": {},
   "outputs": [],
   "source": [
    "samples = pd.read_csv('../retrans.csv')\n",
    "samples_new = samples.loc[samples['new_repeat']=='new'][['service','num_owners']].groupby(['service']).sum()\n",
    "samples_new_account = samples.loc[samples['new_account']=='new'][['service','num_owners']].set_index('service')"
   ]
  },
  {
   "cell_type": "code",
   "execution_count": 7,
   "metadata": {},
   "outputs": [],
   "source": [
    "def project_30_day_samples(df, samples_col):\n",
    "    \"\"\"from df with column `service` and inputted samples column (containing 30 day samples)\n",
    "    , project out 45 and 60 days\"\"\"\n",
    "    df = df[samples_col].reset_index().rename(columns={samples_col:'30_day'})\n",
    "    df['45_day'] = (df['30_day']*1.5).astype(int)\n",
    "    df['60_day'] = (df['30_day']*2).astype(int)\n",
    "    return df.set_index('service')\n",
    "\n",
    "\n",
    "expected_xx_day_samples_new = project_30_day_samples(df = samples_new, samples_col = 'num_owners')\n",
    "expected_xx_day_samples_new_account = project_30_day_samples(df = samples_new_account, samples_col = 'num_owners')"
   ]
  },
  {
   "cell_type": "markdown",
   "metadata": {},
   "source": [
    "## Estimate Distribution of Sample Statistic"
   ]
  },
  {
   "cell_type": "markdown",
   "metadata": {},
   "source": [
    "#### Estimate mean of means and standard error of means of sample statistic through simulation\n",
    "http://blog.analytics-toolkit.com/2017/statistical-significance-non-binomial-metrics-revenue-time-site-pages-session-aov-rpu/"
   ]
  },
  {
   "cell_type": "code",
   "execution_count": 8,
   "metadata": {},
   "outputs": [],
   "source": [
    "def sample_data(df, metric, samples, simulations):\n",
    "    \"\"\"\n",
    "    given a dataframe `df` with a metric of interst column `metric`,\n",
    "    select `samples` number of samples,\n",
    "    repeat for `simulations` number of simulations\n",
    "    \n",
    "    Returns:\n",
    "        meanOfMeans (float)\n",
    "        seOfMeans (float)\n",
    "    \"\"\"\n",
    "    metric_series = df[metric]\n",
    "    means = np.array([metric_series.sample(n=samples, replace=True).mean() for i in range(simulations)])\n",
    "    return means.mean(), means.std()"
   ]
  },
  {
   "cell_type": "code",
   "execution_count": 9,
   "metadata": {},
   "outputs": [],
   "source": [
    "def run_sample_data(df, expected_xx_day_samples):\n",
    "    \"\"\"loop through the services, metrics, and sample sizes and estimate mean of means and std of means\"\"\"\n",
    "    dist_stats_dict = {}\n",
    "    \n",
    "    for service in df.service.unique():\n",
    "        df_service = df.loc[df['service'] == service]\n",
    "        samples = expected_xx_day_samples.loc[service].to_dict()\n",
    "        for days, samples in samples.items():\n",
    "            for metric in ['gmv', 'nrt', 'stays']:\n",
    "                mom, seom = sample_data(df_service, metric, samples, 1000)\n",
    "                dist_stats_dict[(service, metric, days)] = (samples, mom, seom)  \n",
    "                \n",
    "    return pd.DataFrame.from_dict(dist_stats_dict, orient='index', columns=['samples','meanOfMeans','SEOfMeans'])"
   ]
  },
  {
   "cell_type": "code",
   "execution_count": 10,
   "metadata": {},
   "outputs": [],
   "source": [
    "dist_stats_new = run_sample_data(\n",
    "    df=new, \n",
    "    expected_xx_day_samples = expected_xx_day_samples_new\n",
    ")\n",
    "dist_stats_new_account = run_sample_data(\n",
    "    df=new_account, \n",
    "    expected_xx_day_samples = expected_xx_day_samples_new_account\n",
    ")"
   ]
  },
  {
   "cell_type": "markdown",
   "metadata": {},
   "source": [
    "## Find control-variant differneces that would be significant (alpha = 95%)"
   ]
  },
  {
   "cell_type": "code",
   "execution_count": 11,
   "metadata": {},
   "outputs": [],
   "source": [
    "from scipy.stats import t\n",
    "\n",
    "def independent_ttest(mean, se, samples, alpha, diff):\n",
    "    mean1, mean2 = mean, mean*(1-diff)\n",
    "    sem = se\n",
    "    t_stat = (mean2 - mean1) / sem\n",
    "    df = samples - 1\n",
    "    cv = t.ppf(1.0 - alpha, df)\n",
    "    pval = (1.0 - t.cdf(abs(t_stat), df)) * 2.0\n",
    "    return t_stat, df, cv, pval"
   ]
  },
  {
   "cell_type": "code",
   "execution_count": 12,
   "metadata": {},
   "outputs": [],
   "source": [
    "def run_independent_ttest(dist_stats):\n",
    "    \"\"\"given estimates of the mean of means and se of means for each service/metric/sample size combo, \n",
    "    estimate minimum difference in means that would result in a significant result\"\"\"\n",
    "    pval_dict = defaultdict(list)\n",
    "\n",
    "    for index, row in dist_stats.iterrows():\n",
    "        samples = row.samples*(2/3)\n",
    "        mean = row.meanOfMeans\n",
    "        se = row.SEOfMeans\n",
    "        for diff in np.arange(.005, .15, .001):\n",
    "            t_stat, df, cv, pval = independent_ttest(\n",
    "                mean = mean, \n",
    "                se = se, \n",
    "                samples = samples*(1/2),\n",
    "                alpha = .95,\n",
    "                diff = diff\n",
    "            )\n",
    "            if pval < 0.05:\n",
    "                pval_dict[(index)].append((diff, pval))\n",
    "                break\n",
    "                \n",
    "    df = pd.DataFrame.from_dict(pval_dict, orient='index').reset_index()\n",
    "    df[['service', 'metric', 'samples']] = pd.DataFrame(df['index'].tolist(), index=df.index) \n",
    "    df[['drop', 'pval']] = pd.DataFrame(df[0].tolist(), index=df.index) \n",
    "    df.drop(columns = ['index', 0], inplace=True)\n",
    "    return df.pivot_table(index=['samples', 'service'], columns=['metric'], values = 'drop')\n"
   ]
  },
  {
   "cell_type": "markdown",
   "metadata": {},
   "source": [
    "## New Customers % Drops for Significance"
   ]
  },
  {
   "cell_type": "code",
   "execution_count": 13,
   "metadata": {},
   "outputs": [],
   "source": [
    "expected_xx_day_samples_new.columns.name = 'samples'\n",
    "reshaped_samples_new = expected_xx_day_samples_new.stack().to_frame().sort_index().rename(columns = {0:'expected_samples'})"
   ]
  },
  {
   "cell_type": "code",
   "execution_count": 14,
   "metadata": {
    "scrolled": true
   },
   "outputs": [
    {
     "data": {
      "text/html": [
       "<div>\n",
       "<style scoped>\n",
       "    .dataframe tbody tr th:only-of-type {\n",
       "        vertical-align: middle;\n",
       "    }\n",
       "\n",
       "    .dataframe tbody tr th {\n",
       "        vertical-align: top;\n",
       "    }\n",
       "\n",
       "    .dataframe thead th {\n",
       "        text-align: right;\n",
       "    }\n",
       "</style>\n",
       "<table border=\"1\" class=\"dataframe\">\n",
       "  <thead>\n",
       "    <tr style=\"text-align: right;\">\n",
       "      <th></th>\n",
       "      <th></th>\n",
       "      <th>expected_samples</th>\n",
       "      <th>gmv</th>\n",
       "      <th>nrt</th>\n",
       "      <th>stays</th>\n",
       "    </tr>\n",
       "    <tr>\n",
       "      <th>service</th>\n",
       "      <th>samples</th>\n",
       "      <th></th>\n",
       "      <th></th>\n",
       "      <th></th>\n",
       "      <th></th>\n",
       "    </tr>\n",
       "  </thead>\n",
       "  <tbody>\n",
       "    <tr>\n",
       "      <td rowspan=\"3\" valign=\"top\">*</td>\n",
       "      <td>30_day</td>\n",
       "      <td>36150</td>\n",
       "      <td>2.3</td>\n",
       "      <td>2.3</td>\n",
       "      <td>2.4</td>\n",
       "    </tr>\n",
       "    <tr>\n",
       "      <td>45_day</td>\n",
       "      <td>54225</td>\n",
       "      <td>1.9</td>\n",
       "      <td>1.9</td>\n",
       "      <td>1.9</td>\n",
       "    </tr>\n",
       "    <tr>\n",
       "      <td>60_day</td>\n",
       "      <td>72300</td>\n",
       "      <td>1.7</td>\n",
       "      <td>1.6</td>\n",
       "      <td>1.7</td>\n",
       "    </tr>\n",
       "    <tr>\n",
       "      <td rowspan=\"3\" valign=\"top\">dog-walking</td>\n",
       "      <td>30_day</td>\n",
       "      <td>3766</td>\n",
       "      <td>6.0</td>\n",
       "      <td>6.2</td>\n",
       "      <td>5.3</td>\n",
       "    </tr>\n",
       "    <tr>\n",
       "      <td>45_day</td>\n",
       "      <td>5649</td>\n",
       "      <td>4.8</td>\n",
       "      <td>5.0</td>\n",
       "      <td>4.2</td>\n",
       "    </tr>\n",
       "    <tr>\n",
       "      <td>60_day</td>\n",
       "      <td>7532</td>\n",
       "      <td>4.3</td>\n",
       "      <td>4.2</td>\n",
       "      <td>3.7</td>\n",
       "    </tr>\n",
       "    <tr>\n",
       "      <td rowspan=\"3\" valign=\"top\">drop-in</td>\n",
       "      <td>30_day</td>\n",
       "      <td>6403</td>\n",
       "      <td>5.3</td>\n",
       "      <td>5.1</td>\n",
       "      <td>5.3</td>\n",
       "    </tr>\n",
       "    <tr>\n",
       "      <td>45_day</td>\n",
       "      <td>9604</td>\n",
       "      <td>4.2</td>\n",
       "      <td>4.2</td>\n",
       "      <td>4.0</td>\n",
       "    </tr>\n",
       "    <tr>\n",
       "      <td>60_day</td>\n",
       "      <td>12806</td>\n",
       "      <td>3.6</td>\n",
       "      <td>3.6</td>\n",
       "      <td>3.6</td>\n",
       "    </tr>\n",
       "    <tr>\n",
       "      <td rowspan=\"3\" valign=\"top\">overnight</td>\n",
       "      <td>30_day</td>\n",
       "      <td>24635</td>\n",
       "      <td>2.7</td>\n",
       "      <td>2.7</td>\n",
       "      <td>2.7</td>\n",
       "    </tr>\n",
       "    <tr>\n",
       "      <td>45_day</td>\n",
       "      <td>36952</td>\n",
       "      <td>2.2</td>\n",
       "      <td>2.1</td>\n",
       "      <td>2.2</td>\n",
       "    </tr>\n",
       "    <tr>\n",
       "      <td>60_day</td>\n",
       "      <td>49270</td>\n",
       "      <td>1.9</td>\n",
       "      <td>1.9</td>\n",
       "      <td>1.9</td>\n",
       "    </tr>\n",
       "  </tbody>\n",
       "</table>\n",
       "</div>"
      ],
      "text/plain": [
       "                     expected_samples  gmv  nrt  stays\n",
       "service     samples                                   \n",
       "*           30_day              36150  2.3  2.3    2.4\n",
       "            45_day              54225  1.9  1.9    1.9\n",
       "            60_day              72300  1.7  1.6    1.7\n",
       "dog-walking 30_day               3766  6.0  6.2    5.3\n",
       "            45_day               5649  4.8  5.0    4.2\n",
       "            60_day               7532  4.3  4.2    3.7\n",
       "drop-in     30_day               6403  5.3  5.1    5.3\n",
       "            45_day               9604  4.2  4.2    4.0\n",
       "            60_day              12806  3.6  3.6    3.6\n",
       "overnight   30_day              24635  2.7  2.7    2.7\n",
       "            45_day              36952  2.2  2.1    2.2\n",
       "            60_day              49270  1.9  1.9    1.9"
      ]
     },
     "execution_count": 14,
     "metadata": {},
     "output_type": "execute_result"
    }
   ],
   "source": [
    "sig_drops_new = reshaped_samples_new.join(run_independent_ttest(dist_stats_new)*100, on = ['samples', 'service'])\n",
    "sig_drops_new"
   ]
  },
  {
   "cell_type": "markdown",
   "metadata": {},
   "source": [
    "## New Accounts % Drops for Significance"
   ]
  },
  {
   "cell_type": "code",
   "execution_count": 15,
   "metadata": {},
   "outputs": [],
   "source": [
    "expected_xx_day_samples_new_account.columns.name = 'samples'\n",
    "reshaped_samples_new_account = expected_xx_day_samples_new_account.stack().to_frame().sort_index().rename(columns = {0:'expected_samples'})"
   ]
  },
  {
   "cell_type": "code",
   "execution_count": 16,
   "metadata": {
    "scrolled": false
   },
   "outputs": [
    {
     "data": {
      "text/html": [
       "<div>\n",
       "<style scoped>\n",
       "    .dataframe tbody tr th:only-of-type {\n",
       "        vertical-align: middle;\n",
       "    }\n",
       "\n",
       "    .dataframe tbody tr th {\n",
       "        vertical-align: top;\n",
       "    }\n",
       "\n",
       "    .dataframe thead th {\n",
       "        text-align: right;\n",
       "    }\n",
       "</style>\n",
       "<table border=\"1\" class=\"dataframe\">\n",
       "  <thead>\n",
       "    <tr style=\"text-align: right;\">\n",
       "      <th></th>\n",
       "      <th></th>\n",
       "      <th>expected_samples</th>\n",
       "      <th>gmv</th>\n",
       "      <th>nrt</th>\n",
       "      <th>stays</th>\n",
       "    </tr>\n",
       "    <tr>\n",
       "      <th>service</th>\n",
       "      <th>samples</th>\n",
       "      <th></th>\n",
       "      <th></th>\n",
       "      <th></th>\n",
       "      <th></th>\n",
       "    </tr>\n",
       "  </thead>\n",
       "  <tbody>\n",
       "    <tr>\n",
       "      <td rowspan=\"3\" valign=\"top\">*</td>\n",
       "      <td>30_day</td>\n",
       "      <td>22334</td>\n",
       "      <td>3.0</td>\n",
       "      <td>2.9</td>\n",
       "      <td>3.1</td>\n",
       "    </tr>\n",
       "    <tr>\n",
       "      <td>45_day</td>\n",
       "      <td>33501</td>\n",
       "      <td>2.4</td>\n",
       "      <td>2.5</td>\n",
       "      <td>2.6</td>\n",
       "    </tr>\n",
       "    <tr>\n",
       "      <td>60_day</td>\n",
       "      <td>44668</td>\n",
       "      <td>2.2</td>\n",
       "      <td>2.1</td>\n",
       "      <td>2.2</td>\n",
       "    </tr>\n",
       "    <tr>\n",
       "      <td rowspan=\"3\" valign=\"top\">dog-walking</td>\n",
       "      <td>30_day</td>\n",
       "      <td>2459</td>\n",
       "      <td>7.7</td>\n",
       "      <td>7.5</td>\n",
       "      <td>6.7</td>\n",
       "    </tr>\n",
       "    <tr>\n",
       "      <td>45_day</td>\n",
       "      <td>3688</td>\n",
       "      <td>6.1</td>\n",
       "      <td>5.9</td>\n",
       "      <td>5.1</td>\n",
       "    </tr>\n",
       "    <tr>\n",
       "      <td>60_day</td>\n",
       "      <td>4918</td>\n",
       "      <td>5.3</td>\n",
       "      <td>5.2</td>\n",
       "      <td>4.8</td>\n",
       "    </tr>\n",
       "    <tr>\n",
       "      <td rowspan=\"3\" valign=\"top\">drop-in</td>\n",
       "      <td>30_day</td>\n",
       "      <td>4132</td>\n",
       "      <td>6.6</td>\n",
       "      <td>6.4</td>\n",
       "      <td>6.3</td>\n",
       "    </tr>\n",
       "    <tr>\n",
       "      <td>45_day</td>\n",
       "      <td>6198</td>\n",
       "      <td>5.2</td>\n",
       "      <td>5.3</td>\n",
       "      <td>5.1</td>\n",
       "    </tr>\n",
       "    <tr>\n",
       "      <td>60_day</td>\n",
       "      <td>8264</td>\n",
       "      <td>4.5</td>\n",
       "      <td>4.5</td>\n",
       "      <td>4.5</td>\n",
       "    </tr>\n",
       "    <tr>\n",
       "      <td rowspan=\"3\" valign=\"top\">overnight</td>\n",
       "      <td>30_day</td>\n",
       "      <td>14797</td>\n",
       "      <td>3.7</td>\n",
       "      <td>3.6</td>\n",
       "      <td>3.5</td>\n",
       "    </tr>\n",
       "    <tr>\n",
       "      <td>45_day</td>\n",
       "      <td>22195</td>\n",
       "      <td>3.1</td>\n",
       "      <td>2.9</td>\n",
       "      <td>3.1</td>\n",
       "    </tr>\n",
       "    <tr>\n",
       "      <td>60_day</td>\n",
       "      <td>29594</td>\n",
       "      <td>2.6</td>\n",
       "      <td>2.5</td>\n",
       "      <td>2.6</td>\n",
       "    </tr>\n",
       "  </tbody>\n",
       "</table>\n",
       "</div>"
      ],
      "text/plain": [
       "                     expected_samples  gmv  nrt  stays\n",
       "service     samples                                   \n",
       "*           30_day              22334  3.0  2.9    3.1\n",
       "            45_day              33501  2.4  2.5    2.6\n",
       "            60_day              44668  2.2  2.1    2.2\n",
       "dog-walking 30_day               2459  7.7  7.5    6.7\n",
       "            45_day               3688  6.1  5.9    5.1\n",
       "            60_day               4918  5.3  5.2    4.8\n",
       "drop-in     30_day               4132  6.6  6.4    6.3\n",
       "            45_day               6198  5.2  5.3    5.1\n",
       "            60_day               8264  4.5  4.5    4.5\n",
       "overnight   30_day              14797  3.7  3.6    3.5\n",
       "            45_day              22195  3.1  2.9    3.1\n",
       "            60_day              29594  2.6  2.5    2.6"
      ]
     },
     "execution_count": 16,
     "metadata": {},
     "output_type": "execute_result"
    }
   ],
   "source": [
    "sig_drops_new_account = reshaped_samples_new_account.join(run_independent_ttest(dist_stats_new_account)*100, on = ['samples', 'service'])\n",
    "sig_drops_new_account"
   ]
  },
  {
   "cell_type": "code",
   "execution_count": null,
   "metadata": {},
   "outputs": [],
   "source": []
  }
 ],
 "metadata": {
  "kernelspec": {
   "display_name": "rover-ds-taxes-increase",
   "language": "python",
   "name": "rover-ds-taxes-increase"
  },
  "language_info": {
   "codemirror_mode": {
    "name": "ipython",
    "version": 3
   },
   "file_extension": ".py",
   "mimetype": "text/x-python",
   "name": "python",
   "nbconvert_exporter": "python",
   "pygments_lexer": "ipython3",
   "version": "3.6.5"
  }
 },
 "nbformat": 4,
 "nbformat_minor": 2
}
