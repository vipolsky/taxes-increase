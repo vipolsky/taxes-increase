{
 "cells": [
  {
   "cell_type": "code",
   "execution_count": 1,
   "metadata": {},
   "outputs": [],
   "source": [
    "import sys\n",
    "sys.path.append('../')\n",
    "import pandas as pd\n",
    "from roverdata.db import DataWarehouse\n",
    "from main import main\n",
    "from taxes_increase import utils"
   ]
  },
  {
   "cell_type": "markdown",
   "metadata": {},
   "source": [
    "## Get Data"
   ]
  },
  {
   "cell_type": "code",
   "execution_count": null,
   "metadata": {},
   "outputs": [
    {
     "name": "stderr",
     "output_type": "stream",
     "text": [
      "2019-09-17 15:00:37,388 main         INFO     fetching LTV data\n"
     ]
    }
   ],
   "source": [
    "#LTV, retrans = main()"
   ]
  },
  {
   "cell_type": "code",
   "execution_count": null,
   "metadata": {},
   "outputs": [],
   "source": [
    "LTV = pd.from_csv('LTV.csv', sep = \"\\t\")\n",
    "retrans.to_csv('retrans.csv')"
   ]
  },
  {
   "cell_type": "code",
   "execution_count": null,
   "metadata": {},
   "outputs": [],
   "source": [
    "LTV.head()"
   ]
  },
  {
   "cell_type": "markdown",
   "metadata": {},
   "source": [
    "## Calculate Percent GMV Drop for Breakeven"
   ]
  },
  {
   "cell_type": "code",
   "execution_count": null,
   "metadata": {},
   "outputs": [],
   "source": [
    "fee=pd.Series([.035,.07],name=\"Fee Increase\")\n",
    "tax = pd.Series('No tax/4% tax/8% tax'.split('/'),name='Sales Tax')\n",
    "#pd.DataFrame(columns=['Relative Boost to Rover take','Breakeven loss to GMV'])\n",
    "x=pd.DataFrame(fee).assign(tag=1)\n",
    "x=pd.DataFrame(tax).assign(tag=1).merge(x).drop(columns='tag').assign(tax=[0,0,4,4,8,8])\n",
    "x['Relative Boost to Rover take']=x['Fee Increase']/(27-x.tax)*100\n",
    "x['Breakeven loss to GMV']=(1+x['Relative Boost to Rover take'])**-1-1\n",
    "x['Relative Boost to Rover take']=x['Relative Boost to Rover take'].apply('{:.1%}'.format)\n",
    "x['Breakeven loss to GMV']=x['Breakeven loss to GMV'].apply('{:.1%}'.format)\n",
    "x=x.drop(columns='tax').pivot(index='Fee Increase',columns='Sales Tax')\n",
    "x"
   ]
  },
  {
   "cell_type": "markdown",
   "metadata": {},
   "source": [
    "## Mean and Bootstrapped Standard Error"
   ]
  },
  {
   "cell_type": "code",
   "execution_count": null,
   "metadata": {},
   "outputs": [],
   "source": [
    "LTV180 = LTV[LTV.dates==180].drop(columns=['dates','requester_id'])\n",
    "LTV180_new = LTV180[LTV180.new_repeat=='new']\n",
    "LTV180_new_account = LTV180[LTV180.new_account=='new']\n",
    "splitter = ['service']"
   ]
  },
  {
   "cell_type": "code",
   "execution_count": null,
   "metadata": {},
   "outputs": [],
   "source": [
    "np.random.seed(9)\n",
    "boots_new = utils.bootstrap(LTV180_new,samplesize=10000,nsamples=1000).groupby('service sample_id'.split()).mean()\n",
    "means_new = boots_new.groupby(splitter).mean().round(2)\n",
    "means_new"
   ]
  },
  {
   "cell_type": "code",
   "execution_count": null,
   "metadata": {},
   "outputs": [],
   "source": [
    "np.random.seed(9)\n",
    "boots_new_account = utils.bootstrap(LTV180_new_account,samplesize=10000,nsamples=1000).groupby('service sample_id'.split()).mean()\n",
    "means_new_account = boots_new.groupby(splitter).mean().round(2)\n",
    "means_new_account"
   ]
  },
  {
   "cell_type": "code",
   "execution_count": null,
   "metadata": {},
   "outputs": [],
   "source": [
    "var10k = boots.groupby(splitter).var()\n",
    "propSE10k = var10k**.5/means\n",
    "propSE10k"
   ]
  },
  {
   "cell_type": "markdown",
   "metadata": {},
   "source": [
    "## Get Customer Volume"
   ]
  },
  {
   "cell_type": "code",
   "execution_count": null,
   "metadata": {},
   "outputs": [],
   "source": [
    "retrans.head()"
   ]
  },
  {
   "cell_type": "code",
   "execution_count": null,
   "metadata": {},
   "outputs": [],
   "source": []
  }
 ],
 "metadata": {
  "kernelspec": {
   "display_name": "rover-ds-taxes-increase",
   "language": "python",
   "name": "rover-ds-taxes-increase"
  },
  "language_info": {
   "codemirror_mode": {
    "name": "ipython",
    "version": 3
   },
   "file_extension": ".py",
   "mimetype": "text/x-python",
   "name": "python",
   "nbconvert_exporter": "python",
   "pygments_lexer": "ipython3",
   "version": "3.6.5"
  }
 },
 "nbformat": 4,
 "nbformat_minor": 2
}
